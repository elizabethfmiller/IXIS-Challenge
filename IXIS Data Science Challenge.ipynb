{
 "cells": [
  {
   "cell_type": "markdown",
   "id": "pleasant-corner",
   "metadata": {},
   "source": [
    "# IXIS Data Science Challenge"
   ]
  },
  {
   "cell_type": "markdown",
   "id": "committed-humanitarian",
   "metadata": {},
   "source": [
    "Elizabeth Miller\n",
    "\n",
    "June 27, 2023"
   ]
  },
  {
   "cell_type": "markdown",
   "id": "advisory-professor",
   "metadata": {},
   "source": [
    "## 1 - Introduction\n",
    "\n",
    "Given 2 datasets, we want to create two actionable reports for the business. First, we want a xlsx sheet containing a month and device aggregation with metrics including Sessions, Transactions, QTY, and ECR (Transactions / Sessions). Next, we want an xlsx sheet that's a Month over Month comparison for the most recent 2 months with all available metrics (including Adds to Cart) showing: the most recent month's value, the prior month's value, and both the absolute and relative differences between them. \n",
    "\n",
    "In order to do these with python3, we'll need the holy trinity of python packages. "
   ]
  },
  {
   "cell_type": "code",
   "execution_count": 1,
   "id": "determined-charger",
   "metadata": {
    "ExecuteTime": {
     "end_time": "2023-06-28T17:17:32.021886Z",
     "start_time": "2023-06-28T17:17:31.710646Z"
    }
   },
   "outputs": [],
   "source": [
    "#The Holy Trinity\n",
    "\n",
    "import numpy as np\n",
    "import pandas as pd\n",
    "import matplotlib.pyplot as plt\n",
    "\n",
    "#Handy code to remove warnings\n",
    "\n",
    "import warnings\n",
    "warnings.filterwarnings(\"ignore\")"
   ]
  },
  {
   "cell_type": "markdown",
   "id": "lesser-seven",
   "metadata": {},
   "source": [
    "Any project is broken into the following phases:\n",
    "\n",
    "1. Defining the Problem\n",
    "2. Data Investigation & Cleaning\n",
    "3. Exploratory Data Analysis\n",
    "4. Answering the Problem (Modeling)\n",
    "5. Findings\n",
    "6. Deploying\n",
    "\n",
    "**Note:** For this project, we will not be completing step 6 as we were just tasked with reports. "
   ]
  },
  {
   "cell_type": "markdown",
   "id": "printable-travel",
   "metadata": {},
   "source": [
    "### Defining the Problem\n",
    "\n",
    "Based on the two required reports, it seems this business, we'll call it Fictional, needs a snapshot of their records monthly. First, as a simple monthly report showing business transaction metrics and secondly, as a month over month analysis of their various metric values. \n",
    "\n",
    "At first glance, this appears to be a Data Analysis project and not a machine learning question so we will leave those algorithms out and instead focus on whether the past few months' analysis can provide actionable insights for Fictional. "
   ]
  },
  {
   "cell_type": "markdown",
   "id": "friendly-easter",
   "metadata": {},
   "source": [
    "## 2 - Data Investigation and Cleaning"
   ]
  },
  {
   "cell_type": "markdown",
   "id": "unexpected-price",
   "metadata": {},
   "source": [
    "To begin, let's take a quick look at the data provided. First, we'll need to read in the files. This will be done in a stepwise manner. First we'll focus on the Session Counts csv: dig through it and clean it up. Then we will go back and do the same for the Adds To Cart csv. "
   ]
  },
  {
   "cell_type": "markdown",
   "id": "entertaining-retirement",
   "metadata": {},
   "source": [
    "### Session Counts"
   ]
  },
  {
   "cell_type": "code",
   "execution_count": 2,
   "id": "surprising-audio",
   "metadata": {
    "ExecuteTime": {
     "end_time": "2023-06-28T17:17:32.032790Z",
     "start_time": "2023-06-28T17:17:32.022928Z"
    }
   },
   "outputs": [
    {
     "data": {
      "text/html": [
       "<div>\n",
       "<style scoped>\n",
       "    .dataframe tbody tr th:only-of-type {\n",
       "        vertical-align: middle;\n",
       "    }\n",
       "\n",
       "    .dataframe tbody tr th {\n",
       "        vertical-align: top;\n",
       "    }\n",
       "\n",
       "    .dataframe thead th {\n",
       "        text-align: right;\n",
       "    }\n",
       "</style>\n",
       "<table border=\"1\" class=\"dataframe\">\n",
       "  <thead>\n",
       "    <tr style=\"text-align: right;\">\n",
       "      <th></th>\n",
       "      <th>dim_browser</th>\n",
       "      <th>dim_deviceCategory</th>\n",
       "      <th>dim_date</th>\n",
       "      <th>sessions</th>\n",
       "      <th>transactions</th>\n",
       "      <th>QTY</th>\n",
       "    </tr>\n",
       "  </thead>\n",
       "  <tbody>\n",
       "    <tr>\n",
       "      <th>0</th>\n",
       "      <td>Safari</td>\n",
       "      <td>tablet</td>\n",
       "      <td>7/1/12</td>\n",
       "      <td>2928</td>\n",
       "      <td>127</td>\n",
       "      <td>221</td>\n",
       "    </tr>\n",
       "    <tr>\n",
       "      <th>1</th>\n",
       "      <td>Internet Explorer</td>\n",
       "      <td>desktop</td>\n",
       "      <td>7/1/12</td>\n",
       "      <td>1106</td>\n",
       "      <td>28</td>\n",
       "      <td>0</td>\n",
       "    </tr>\n",
       "    <tr>\n",
       "      <th>2</th>\n",
       "      <td>Chrome</td>\n",
       "      <td>tablet</td>\n",
       "      <td>7/1/12</td>\n",
       "      <td>474</td>\n",
       "      <td>3</td>\n",
       "      <td>13</td>\n",
       "    </tr>\n",
       "    <tr>\n",
       "      <th>3</th>\n",
       "      <td>Amazon Silk</td>\n",
       "      <td>tablet</td>\n",
       "      <td>7/1/12</td>\n",
       "      <td>235</td>\n",
       "      <td>4</td>\n",
       "      <td>5</td>\n",
       "    </tr>\n",
       "    <tr>\n",
       "      <th>4</th>\n",
       "      <td>Internet Explorer</td>\n",
       "      <td>mobile</td>\n",
       "      <td>7/1/12</td>\n",
       "      <td>178</td>\n",
       "      <td>6</td>\n",
       "      <td>11</td>\n",
       "    </tr>\n",
       "  </tbody>\n",
       "</table>\n",
       "</div>"
      ],
      "text/plain": [
       "         dim_browser dim_deviceCategory dim_date  sessions  transactions  QTY\n",
       "0             Safari             tablet   7/1/12      2928           127  221\n",
       "1  Internet Explorer            desktop   7/1/12      1106            28    0\n",
       "2             Chrome             tablet   7/1/12       474             3   13\n",
       "3        Amazon Silk             tablet   7/1/12       235             4    5\n",
       "4  Internet Explorer             mobile   7/1/12       178             6   11"
      ]
     },
     "execution_count": 2,
     "metadata": {},
     "output_type": "execute_result"
    }
   ],
   "source": [
    "#Reading in the csv\n",
    "\n",
    "sessioncounts = pd.read_csv(\"sessioncounts.csv\")\n",
    "sessioncounts.head()"
   ]
  },
  {
   "cell_type": "markdown",
   "id": "south-pastor",
   "metadata": {},
   "source": [
    "Next, let's look at the data holistically. "
   ]
  },
  {
   "cell_type": "code",
   "execution_count": 3,
   "id": "smaller-brazil",
   "metadata": {
    "ExecuteTime": {
     "end_time": "2023-06-28T17:17:32.039535Z",
     "start_time": "2023-06-28T17:17:32.033825Z"
    }
   },
   "outputs": [
    {
     "name": "stdout",
     "output_type": "stream",
     "text": [
      "<class 'pandas.core.frame.DataFrame'>\n",
      "RangeIndex: 7734 entries, 0 to 7733\n",
      "Data columns (total 6 columns):\n",
      " #   Column              Non-Null Count  Dtype \n",
      "---  ------              --------------  ----- \n",
      " 0   dim_browser         7734 non-null   object\n",
      " 1   dim_deviceCategory  7734 non-null   object\n",
      " 2   dim_date            7734 non-null   object\n",
      " 3   sessions            7734 non-null   int64 \n",
      " 4   transactions        7734 non-null   int64 \n",
      " 5   QTY                 7734 non-null   int64 \n",
      "dtypes: int64(3), object(3)\n",
      "memory usage: 362.7+ KB\n"
     ]
    }
   ],
   "source": [
    "#Checking basic column info\n",
    "\n",
    "sessioncounts.info()"
   ]
  },
  {
   "cell_type": "markdown",
   "id": "unusual-renewal",
   "metadata": {},
   "source": [
    "There are 6 columns with 7,734 rows. There are no null values so this data is pretty clean and we will not be imputing. Based on the first 5 rows, there also does not appear to be any junk columns so we do not need to drop anything. \n",
    "\n",
    "However, the names of the columns are not very clean with the dim_ prefix. This is done in many data warehouse naming conventions for tables where the data is slowly changing and contains context or background information. Since the bottom 3 columns do not have the dim_ prefix, it is likely that they come from a separate table and were joined together. For the sake of readability, let's rename those top 3 columns and remove the prefix."
   ]
  },
  {
   "cell_type": "code",
   "execution_count": 4,
   "id": "alternate-kinase",
   "metadata": {
    "ExecuteTime": {
     "end_time": "2023-06-28T17:17:32.041861Z",
     "start_time": "2023-06-28T17:17:32.040271Z"
    }
   },
   "outputs": [],
   "source": [
    "#Renaming\n",
    "\n",
    "sessioncounts.rename(columns = {'dim_browser':'browser', 'dim_deviceCategory':'device', 'dim_date':'date'}, inplace = True)"
   ]
  },
  {
   "cell_type": "markdown",
   "id": "present-moscow",
   "metadata": {},
   "source": [
    "Just to check it is done. "
   ]
  },
  {
   "cell_type": "code",
   "execution_count": 5,
   "id": "fundamental-microwave",
   "metadata": {
    "ExecuteTime": {
     "end_time": "2023-06-28T17:17:32.047358Z",
     "start_time": "2023-06-28T17:17:32.042583Z"
    }
   },
   "outputs": [
    {
     "name": "stdout",
     "output_type": "stream",
     "text": [
      "<class 'pandas.core.frame.DataFrame'>\n",
      "RangeIndex: 7734 entries, 0 to 7733\n",
      "Data columns (total 6 columns):\n",
      " #   Column        Non-Null Count  Dtype \n",
      "---  ------        --------------  ----- \n",
      " 0   browser       7734 non-null   object\n",
      " 1   device        7734 non-null   object\n",
      " 2   date          7734 non-null   object\n",
      " 3   sessions      7734 non-null   int64 \n",
      " 4   transactions  7734 non-null   int64 \n",
      " 5   QTY           7734 non-null   int64 \n",
      "dtypes: int64(3), object(3)\n",
      "memory usage: 362.7+ KB\n"
     ]
    }
   ],
   "source": [
    "#Checking the names\n",
    "\n",
    "sessioncounts.info()"
   ]
  },
  {
   "cell_type": "markdown",
   "id": "precious-metabolism",
   "metadata": {},
   "source": [
    "Now QTY does not fit in the overall naming convention. Let's change that too. "
   ]
  },
  {
   "cell_type": "code",
   "execution_count": 6,
   "id": "fatty-miller",
   "metadata": {
    "ExecuteTime": {
     "end_time": "2023-06-28T17:17:32.049486Z",
     "start_time": "2023-06-28T17:17:32.047984Z"
    }
   },
   "outputs": [],
   "source": [
    "#Renaming\n",
    "\n",
    "sessioncounts.rename(columns = {'QTY':'quantity'}, inplace = True)"
   ]
  },
  {
   "cell_type": "markdown",
   "id": "raising-spectacular",
   "metadata": {},
   "source": [
    "When we initially ran the info() code, it stated that the date column is the dtype object. As it's a date, it should have the datetime dtype. Let's recast that. "
   ]
  },
  {
   "cell_type": "code",
   "execution_count": 7,
   "id": "working-artist",
   "metadata": {
    "ExecuteTime": {
     "end_time": "2023-06-28T17:17:32.062311Z",
     "start_time": "2023-06-28T17:17:32.051100Z"
    }
   },
   "outputs": [],
   "source": [
    "#Recast date column as a date\n",
    "\n",
    "sessioncounts['date'] = pd.to_datetime(sessioncounts['date'])"
   ]
  },
  {
   "cell_type": "code",
   "execution_count": 8,
   "id": "stretch-huntington",
   "metadata": {
    "ExecuteTime": {
     "end_time": "2023-06-28T17:17:32.068263Z",
     "start_time": "2023-06-28T17:17:32.063632Z"
    }
   },
   "outputs": [
    {
     "name": "stdout",
     "output_type": "stream",
     "text": [
      "<class 'pandas.core.frame.DataFrame'>\n",
      "RangeIndex: 7734 entries, 0 to 7733\n",
      "Data columns (total 6 columns):\n",
      " #   Column        Non-Null Count  Dtype         \n",
      "---  ------        --------------  -----         \n",
      " 0   browser       7734 non-null   object        \n",
      " 1   device        7734 non-null   object        \n",
      " 2   date          7734 non-null   datetime64[ns]\n",
      " 3   sessions      7734 non-null   int64         \n",
      " 4   transactions  7734 non-null   int64         \n",
      " 5   quantity      7734 non-null   int64         \n",
      "dtypes: datetime64[ns](1), int64(3), object(2)\n",
      "memory usage: 362.7+ KB\n"
     ]
    }
   ],
   "source": [
    "#Checking dtype\n",
    "\n",
    "sessioncounts.info()"
   ]
  },
  {
   "cell_type": "markdown",
   "id": "related-section",
   "metadata": {},
   "source": [
    "One last thing. We can quickly check what is in the non-metric columns and make sure there isn't any junk hidden within them. "
   ]
  },
  {
   "cell_type": "code",
   "execution_count": 9,
   "id": "angry-handle",
   "metadata": {
    "ExecuteTime": {
     "end_time": "2023-06-28T17:17:32.071794Z",
     "start_time": "2023-06-28T17:17:32.068896Z"
    }
   },
   "outputs": [
    {
     "data": {
      "text/plain": [
       "Chrome                                  679\n",
       "Internet Explorer                       673\n",
       "Safari                                  669\n",
       "Edge                                    535\n",
       "Firefox                                 522\n",
       "Safari (in-app)                         476\n",
       "Opera                                   471\n",
       "Android Webview                         458\n",
       "Samsung Internet                        380\n",
       "Amazon Silk                             366\n",
       "error                                   364\n",
       "Android Browser                         351\n",
       "BlackBerry                              224\n",
       "SeaMonkey                               204\n",
       "Opera Mini                              161\n",
       "UC Browser                              155\n",
       "Mozilla                                 143\n",
       "Maxthon                                 127\n",
       "YaBrowser                               121\n",
       "Puffin                                   99\n",
       "(not set)                                98\n",
       "Mozilla Compatible Agent                 93\n",
       "osee2unifiedRelease                      92\n",
       "Coc Coc                                  65\n",
       "Iron                                     55\n",
       "BrowserNG                                22\n",
       "DESKTOP                                  20\n",
       "Truefitbot                               17\n",
       "DDG-Android-3.1.1                        16\n",
       "MRCHROME                                 10\n",
       "NokiaC7-00                               10\n",
       "NokiaE52-1                                7\n",
       "YelpWebView                               6\n",
       "Seznam                                    5\n",
       "IE with Chrome Frame                      5\n",
       "TimesTablet                               3\n",
       "Apple-iPhone7C2                           3\n",
       "NetFront                                  3\n",
       "LG-C410                                   3\n",
       "DDG-Android-3.0.14                        3\n",
       "Nokia Browser                             2\n",
       "Amazon.com                                2\n",
       "SonyEricssonK700c                         2\n",
       "Chromeless 1.2.0                          1\n",
       "DDG-Android-3.0.17                        1\n",
       "turnaround                                1\n",
       "X-WebBrowser                              1\n",
       "Job Search                                1\n",
       "DDG-Android-3.0.11                        1\n",
       "Playstation 3                             1\n",
       "FeeddlerPro                               1\n",
       "Python-urllib                             1\n",
       "NetNewsWire Browser                       1\n",
       "Nintendo Browser                          1\n",
       "anonymous                                 1\n",
       "HubSpot inbound link reporting check      1\n",
       "Mobile                                    1\n",
       "Name: browser, dtype: int64"
      ]
     },
     "execution_count": 9,
     "metadata": {},
     "output_type": "execute_result"
    }
   ],
   "source": [
    "#Getting all data from this column\n",
    "\n",
    "sessioncounts['browser'].value_counts()"
   ]
  },
  {
   "cell_type": "markdown",
   "id": "collected-transcription",
   "metadata": {},
   "source": [
    "Looks like there *is* some junk with the error and (not set) values. Error accounts for 364 and (not set) is 98. Combined, this makes up 6% of the overall data. When working with clients, it's important to get their input into what to do with this type of data. In lieu of that for this project, we will leave it for now since it is a small percent of the data. Once presented to the client, this can be something to discuss. Let's check the other 2 non-metric columns."
   ]
  },
  {
   "cell_type": "code",
   "execution_count": 10,
   "id": "little-julian",
   "metadata": {
    "ExecuteTime": {
     "end_time": "2023-06-28T17:17:32.074830Z",
     "start_time": "2023-06-28T17:17:32.072422Z"
    }
   },
   "outputs": [
    {
     "data": {
      "text/plain": [
       "mobile     3013\n",
       "desktop    2672\n",
       "tablet     2049\n",
       "Name: device, dtype: int64"
      ]
     },
     "execution_count": 10,
     "metadata": {},
     "output_type": "execute_result"
    }
   ],
   "source": [
    "#Getting all data from this column\n",
    "\n",
    "sessioncounts['device'].value_counts()"
   ]
  },
  {
   "cell_type": "markdown",
   "id": "blocked-protection",
   "metadata": {},
   "source": [
    "This is clean and all values make sense. "
   ]
  },
  {
   "cell_type": "markdown",
   "id": "finnish-player",
   "metadata": {},
   "source": [
    "With this, the Session Counts csv is clean, renamed and the dtypes are all correct. Let's move on to doing the same to the Adds to Cart csv. \n",
    "\n",
    "### Adds To Cart\n",
    "\n",
    "We will follow the same steps as before, beginning with reading in the data and looking at the first 5 rows. "
   ]
  },
  {
   "cell_type": "code",
   "execution_count": 11,
   "id": "funky-edition",
   "metadata": {
    "ExecuteTime": {
     "end_time": "2023-06-28T17:17:32.079614Z",
     "start_time": "2023-06-28T17:17:32.075574Z"
    }
   },
   "outputs": [
    {
     "data": {
      "text/html": [
       "<div>\n",
       "<style scoped>\n",
       "    .dataframe tbody tr th:only-of-type {\n",
       "        vertical-align: middle;\n",
       "    }\n",
       "\n",
       "    .dataframe tbody tr th {\n",
       "        vertical-align: top;\n",
       "    }\n",
       "\n",
       "    .dataframe thead th {\n",
       "        text-align: right;\n",
       "    }\n",
       "</style>\n",
       "<table border=\"1\" class=\"dataframe\">\n",
       "  <thead>\n",
       "    <tr style=\"text-align: right;\">\n",
       "      <th></th>\n",
       "      <th>dim_year</th>\n",
       "      <th>dim_month</th>\n",
       "      <th>addsToCart</th>\n",
       "    </tr>\n",
       "  </thead>\n",
       "  <tbody>\n",
       "    <tr>\n",
       "      <th>0</th>\n",
       "      <td>2012</td>\n",
       "      <td>7</td>\n",
       "      <td>191504</td>\n",
       "    </tr>\n",
       "    <tr>\n",
       "      <th>1</th>\n",
       "      <td>2012</td>\n",
       "      <td>8</td>\n",
       "      <td>217666</td>\n",
       "    </tr>\n",
       "    <tr>\n",
       "      <th>2</th>\n",
       "      <td>2012</td>\n",
       "      <td>9</td>\n",
       "      <td>123726</td>\n",
       "    </tr>\n",
       "    <tr>\n",
       "      <th>3</th>\n",
       "      <td>2012</td>\n",
       "      <td>10</td>\n",
       "      <td>139803</td>\n",
       "    </tr>\n",
       "    <tr>\n",
       "      <th>4</th>\n",
       "      <td>2012</td>\n",
       "      <td>11</td>\n",
       "      <td>186572</td>\n",
       "    </tr>\n",
       "  </tbody>\n",
       "</table>\n",
       "</div>"
      ],
      "text/plain": [
       "   dim_year  dim_month  addsToCart\n",
       "0      2012          7      191504\n",
       "1      2012          8      217666\n",
       "2      2012          9      123726\n",
       "3      2012         10      139803\n",
       "4      2012         11      186572"
      ]
     },
     "execution_count": 11,
     "metadata": {},
     "output_type": "execute_result"
    }
   ],
   "source": [
    "#Reading in the csv\n",
    "\n",
    "addstocart = pd.read_csv(\"addstocart.csv\")\n",
    "addstocart.head()"
   ]
  },
  {
   "cell_type": "markdown",
   "id": "clean-movie",
   "metadata": {},
   "source": [
    "This is straight forward, we have a date (year and month) and then a value for addsToCart. Since the values for addsToCart are not decimals, we can assume this is the number of times items were added to the cart. Now let's get an overview of the data."
   ]
  },
  {
   "cell_type": "code",
   "execution_count": 12,
   "id": "piano-cambodia",
   "metadata": {
    "ExecuteTime": {
     "end_time": "2023-06-28T17:17:32.084426Z",
     "start_time": "2023-06-28T17:17:32.080306Z"
    }
   },
   "outputs": [
    {
     "name": "stdout",
     "output_type": "stream",
     "text": [
      "<class 'pandas.core.frame.DataFrame'>\n",
      "RangeIndex: 12 entries, 0 to 11\n",
      "Data columns (total 3 columns):\n",
      " #   Column      Non-Null Count  Dtype\n",
      "---  ------      --------------  -----\n",
      " 0   dim_year    12 non-null     int64\n",
      " 1   dim_month   12 non-null     int64\n",
      " 2   addsToCart  12 non-null     int64\n",
      "dtypes: int64(3)\n",
      "memory usage: 416.0 bytes\n"
     ]
    }
   ],
   "source": [
    "#Getting holistic view\n",
    "\n",
    "addstocart.info()"
   ]
  },
  {
   "cell_type": "markdown",
   "id": "logical-conditions",
   "metadata": {},
   "source": [
    "There are 12 rows, so 12 months being tracked with this table. There are no null values. The first thing we need to do is to combine the year and month columns to make a dtype datetime column. This will be useful when comparing this table to the Session Counts data. To do this, we need to rename those two columns to 'year' and 'month' as these are special strings that pandas looks for when converting to datetime. "
   ]
  },
  {
   "cell_type": "code",
   "execution_count": 13,
   "id": "damaged-decision",
   "metadata": {
    "ExecuteTime": {
     "end_time": "2023-06-28T17:17:32.088526Z",
     "start_time": "2023-06-28T17:17:32.085086Z"
    }
   },
   "outputs": [
    {
     "data": {
      "text/html": [
       "<div>\n",
       "<style scoped>\n",
       "    .dataframe tbody tr th:only-of-type {\n",
       "        vertical-align: middle;\n",
       "    }\n",
       "\n",
       "    .dataframe tbody tr th {\n",
       "        vertical-align: top;\n",
       "    }\n",
       "\n",
       "    .dataframe thead th {\n",
       "        text-align: right;\n",
       "    }\n",
       "</style>\n",
       "<table border=\"1\" class=\"dataframe\">\n",
       "  <thead>\n",
       "    <tr style=\"text-align: right;\">\n",
       "      <th></th>\n",
       "      <th>year</th>\n",
       "      <th>month</th>\n",
       "      <th>addstocart</th>\n",
       "    </tr>\n",
       "  </thead>\n",
       "  <tbody>\n",
       "    <tr>\n",
       "      <th>0</th>\n",
       "      <td>2012</td>\n",
       "      <td>7</td>\n",
       "      <td>191504</td>\n",
       "    </tr>\n",
       "    <tr>\n",
       "      <th>1</th>\n",
       "      <td>2012</td>\n",
       "      <td>8</td>\n",
       "      <td>217666</td>\n",
       "    </tr>\n",
       "    <tr>\n",
       "      <th>2</th>\n",
       "      <td>2012</td>\n",
       "      <td>9</td>\n",
       "      <td>123726</td>\n",
       "    </tr>\n",
       "    <tr>\n",
       "      <th>3</th>\n",
       "      <td>2012</td>\n",
       "      <td>10</td>\n",
       "      <td>139803</td>\n",
       "    </tr>\n",
       "    <tr>\n",
       "      <th>4</th>\n",
       "      <td>2012</td>\n",
       "      <td>11</td>\n",
       "      <td>186572</td>\n",
       "    </tr>\n",
       "  </tbody>\n",
       "</table>\n",
       "</div>"
      ],
      "text/plain": [
       "   year  month  addstocart\n",
       "0  2012      7      191504\n",
       "1  2012      8      217666\n",
       "2  2012      9      123726\n",
       "3  2012     10      139803\n",
       "4  2012     11      186572"
      ]
     },
     "execution_count": 13,
     "metadata": {},
     "output_type": "execute_result"
    }
   ],
   "source": [
    "#Renaming\n",
    "\n",
    "addstocart.rename(columns = {'dim_year':'year', 'dim_month':'month', 'addsToCart':'addstocart'}, inplace = True)\n",
    "addstocart.head()"
   ]
  },
  {
   "cell_type": "code",
   "execution_count": 14,
   "id": "latest-pathology",
   "metadata": {
    "ExecuteTime": {
     "end_time": "2023-06-28T17:17:32.097615Z",
     "start_time": "2023-06-28T17:17:32.089364Z"
    }
   },
   "outputs": [
    {
     "data": {
      "text/html": [
       "<div>\n",
       "<style scoped>\n",
       "    .dataframe tbody tr th:only-of-type {\n",
       "        vertical-align: middle;\n",
       "    }\n",
       "\n",
       "    .dataframe tbody tr th {\n",
       "        vertical-align: top;\n",
       "    }\n",
       "\n",
       "    .dataframe thead th {\n",
       "        text-align: right;\n",
       "    }\n",
       "</style>\n",
       "<table border=\"1\" class=\"dataframe\">\n",
       "  <thead>\n",
       "    <tr style=\"text-align: right;\">\n",
       "      <th></th>\n",
       "      <th>year</th>\n",
       "      <th>month</th>\n",
       "      <th>addstocart</th>\n",
       "      <th>date</th>\n",
       "    </tr>\n",
       "  </thead>\n",
       "  <tbody>\n",
       "    <tr>\n",
       "      <th>0</th>\n",
       "      <td>2012</td>\n",
       "      <td>7</td>\n",
       "      <td>191504</td>\n",
       "      <td>2012-07-01</td>\n",
       "    </tr>\n",
       "    <tr>\n",
       "      <th>1</th>\n",
       "      <td>2012</td>\n",
       "      <td>8</td>\n",
       "      <td>217666</td>\n",
       "      <td>2012-08-01</td>\n",
       "    </tr>\n",
       "    <tr>\n",
       "      <th>2</th>\n",
       "      <td>2012</td>\n",
       "      <td>9</td>\n",
       "      <td>123726</td>\n",
       "      <td>2012-09-01</td>\n",
       "    </tr>\n",
       "    <tr>\n",
       "      <th>3</th>\n",
       "      <td>2012</td>\n",
       "      <td>10</td>\n",
       "      <td>139803</td>\n",
       "      <td>2012-10-01</td>\n",
       "    </tr>\n",
       "    <tr>\n",
       "      <th>4</th>\n",
       "      <td>2012</td>\n",
       "      <td>11</td>\n",
       "      <td>186572</td>\n",
       "      <td>2012-11-01</td>\n",
       "    </tr>\n",
       "  </tbody>\n",
       "</table>\n",
       "</div>"
      ],
      "text/plain": [
       "   year  month  addstocart       date\n",
       "0  2012      7      191504 2012-07-01\n",
       "1  2012      8      217666 2012-08-01\n",
       "2  2012      9      123726 2012-09-01\n",
       "3  2012     10      139803 2012-10-01\n",
       "4  2012     11      186572 2012-11-01"
      ]
     },
     "execution_count": 14,
     "metadata": {},
     "output_type": "execute_result"
    }
   ],
   "source": [
    "#Now merging the two into a datetime column. \n",
    "\n",
    "addstocart['date'] = pd.to_datetime(addstocart[['year', 'month']].assign(DAY=1))\n",
    "addstocart.head()"
   ]
  },
  {
   "cell_type": "markdown",
   "id": "addressed-detective",
   "metadata": {},
   "source": [
    "Now we need to rearrange the order of some columns and the date column to match the previous dataset's \"m/d/Y\" format. This may not prove necessary but it will provide a way to join the two datasets together when analyzing (if the dates align). I will also drop the year and month column as they are no longer necessary. "
   ]
  },
  {
   "cell_type": "code",
   "execution_count": 15,
   "id": "necessary-joseph",
   "metadata": {
    "ExecuteTime": {
     "end_time": "2023-06-28T17:17:32.102663Z",
     "start_time": "2023-06-28T17:17:32.098350Z"
    }
   },
   "outputs": [
    {
     "data": {
      "text/html": [
       "<div>\n",
       "<style scoped>\n",
       "    .dataframe tbody tr th:only-of-type {\n",
       "        vertical-align: middle;\n",
       "    }\n",
       "\n",
       "    .dataframe tbody tr th {\n",
       "        vertical-align: top;\n",
       "    }\n",
       "\n",
       "    .dataframe thead th {\n",
       "        text-align: right;\n",
       "    }\n",
       "</style>\n",
       "<table border=\"1\" class=\"dataframe\">\n",
       "  <thead>\n",
       "    <tr style=\"text-align: right;\">\n",
       "      <th></th>\n",
       "      <th>year</th>\n",
       "      <th>month</th>\n",
       "      <th>addstocart</th>\n",
       "      <th>date</th>\n",
       "    </tr>\n",
       "  </thead>\n",
       "  <tbody>\n",
       "    <tr>\n",
       "      <th>0</th>\n",
       "      <td>2012</td>\n",
       "      <td>7</td>\n",
       "      <td>191504</td>\n",
       "      <td>07/01/2012</td>\n",
       "    </tr>\n",
       "    <tr>\n",
       "      <th>1</th>\n",
       "      <td>2012</td>\n",
       "      <td>8</td>\n",
       "      <td>217666</td>\n",
       "      <td>08/01/2012</td>\n",
       "    </tr>\n",
       "    <tr>\n",
       "      <th>2</th>\n",
       "      <td>2012</td>\n",
       "      <td>9</td>\n",
       "      <td>123726</td>\n",
       "      <td>09/01/2012</td>\n",
       "    </tr>\n",
       "    <tr>\n",
       "      <th>3</th>\n",
       "      <td>2012</td>\n",
       "      <td>10</td>\n",
       "      <td>139803</td>\n",
       "      <td>10/01/2012</td>\n",
       "    </tr>\n",
       "    <tr>\n",
       "      <th>4</th>\n",
       "      <td>2012</td>\n",
       "      <td>11</td>\n",
       "      <td>186572</td>\n",
       "      <td>11/01/2012</td>\n",
       "    </tr>\n",
       "    <tr>\n",
       "      <th>5</th>\n",
       "      <td>2012</td>\n",
       "      <td>12</td>\n",
       "      <td>168972</td>\n",
       "      <td>12/01/2012</td>\n",
       "    </tr>\n",
       "    <tr>\n",
       "      <th>6</th>\n",
       "      <td>2013</td>\n",
       "      <td>1</td>\n",
       "      <td>147619</td>\n",
       "      <td>01/01/2013</td>\n",
       "    </tr>\n",
       "    <tr>\n",
       "      <th>7</th>\n",
       "      <td>2013</td>\n",
       "      <td>2</td>\n",
       "      <td>135882</td>\n",
       "      <td>02/01/2013</td>\n",
       "    </tr>\n",
       "    <tr>\n",
       "      <th>8</th>\n",
       "      <td>2013</td>\n",
       "      <td>3</td>\n",
       "      <td>109797</td>\n",
       "      <td>03/01/2013</td>\n",
       "    </tr>\n",
       "    <tr>\n",
       "      <th>9</th>\n",
       "      <td>2013</td>\n",
       "      <td>4</td>\n",
       "      <td>183842</td>\n",
       "      <td>04/01/2013</td>\n",
       "    </tr>\n",
       "    <tr>\n",
       "      <th>10</th>\n",
       "      <td>2013</td>\n",
       "      <td>5</td>\n",
       "      <td>136720</td>\n",
       "      <td>05/01/2013</td>\n",
       "    </tr>\n",
       "    <tr>\n",
       "      <th>11</th>\n",
       "      <td>2013</td>\n",
       "      <td>6</td>\n",
       "      <td>107970</td>\n",
       "      <td>06/01/2013</td>\n",
       "    </tr>\n",
       "  </tbody>\n",
       "</table>\n",
       "</div>"
      ],
      "text/plain": [
       "    year  month  addstocart        date\n",
       "0   2012      7      191504  07/01/2012\n",
       "1   2012      8      217666  08/01/2012\n",
       "2   2012      9      123726  09/01/2012\n",
       "3   2012     10      139803  10/01/2012\n",
       "4   2012     11      186572  11/01/2012\n",
       "5   2012     12      168972  12/01/2012\n",
       "6   2013      1      147619  01/01/2013\n",
       "7   2013      2      135882  02/01/2013\n",
       "8   2013      3      109797  03/01/2013\n",
       "9   2013      4      183842  04/01/2013\n",
       "10  2013      5      136720  05/01/2013\n",
       "11  2013      6      107970  06/01/2013"
      ]
     },
     "execution_count": 15,
     "metadata": {},
     "output_type": "execute_result"
    }
   ],
   "source": [
    "#Changing date format\n",
    "\n",
    "addstocart['date'] = addstocart['date'].dt.strftime(\"%m/%d/%Y\")\n",
    "addstocart"
   ]
  },
  {
   "cell_type": "code",
   "execution_count": 16,
   "id": "alien-lender",
   "metadata": {
    "ExecuteTime": {
     "end_time": "2023-06-28T17:17:32.105356Z",
     "start_time": "2023-06-28T17:17:32.103441Z"
    }
   },
   "outputs": [],
   "source": [
    "#Recasting back as date \n",
    "\n",
    "addstocart['date'] = pd.to_datetime(addstocart['date'])"
   ]
  },
  {
   "cell_type": "code",
   "execution_count": 17,
   "id": "contained-winning",
   "metadata": {
    "ExecuteTime": {
     "end_time": "2023-06-28T17:17:32.109787Z",
     "start_time": "2023-06-28T17:17:32.106071Z"
    }
   },
   "outputs": [
    {
     "data": {
      "text/html": [
       "<div>\n",
       "<style scoped>\n",
       "    .dataframe tbody tr th:only-of-type {\n",
       "        vertical-align: middle;\n",
       "    }\n",
       "\n",
       "    .dataframe tbody tr th {\n",
       "        vertical-align: top;\n",
       "    }\n",
       "\n",
       "    .dataframe thead th {\n",
       "        text-align: right;\n",
       "    }\n",
       "</style>\n",
       "<table border=\"1\" class=\"dataframe\">\n",
       "  <thead>\n",
       "    <tr style=\"text-align: right;\">\n",
       "      <th></th>\n",
       "      <th>addstocart</th>\n",
       "      <th>date</th>\n",
       "    </tr>\n",
       "  </thead>\n",
       "  <tbody>\n",
       "    <tr>\n",
       "      <th>0</th>\n",
       "      <td>191504</td>\n",
       "      <td>2012-07-01</td>\n",
       "    </tr>\n",
       "    <tr>\n",
       "      <th>1</th>\n",
       "      <td>217666</td>\n",
       "      <td>2012-08-01</td>\n",
       "    </tr>\n",
       "    <tr>\n",
       "      <th>2</th>\n",
       "      <td>123726</td>\n",
       "      <td>2012-09-01</td>\n",
       "    </tr>\n",
       "    <tr>\n",
       "      <th>3</th>\n",
       "      <td>139803</td>\n",
       "      <td>2012-10-01</td>\n",
       "    </tr>\n",
       "    <tr>\n",
       "      <th>4</th>\n",
       "      <td>186572</td>\n",
       "      <td>2012-11-01</td>\n",
       "    </tr>\n",
       "  </tbody>\n",
       "</table>\n",
       "</div>"
      ],
      "text/plain": [
       "   addstocart       date\n",
       "0      191504 2012-07-01\n",
       "1      217666 2012-08-01\n",
       "2      123726 2012-09-01\n",
       "3      139803 2012-10-01\n",
       "4      186572 2012-11-01"
      ]
     },
     "execution_count": 17,
     "metadata": {},
     "output_type": "execute_result"
    }
   ],
   "source": [
    "#Dropping month & year\n",
    "\n",
    "addstocart = addstocart.drop(['month', 'year'], axis=1)\n",
    "\n",
    "\n",
    "#Checking it's gone\n",
    "addstocart.head()"
   ]
  },
  {
   "cell_type": "code",
   "execution_count": 18,
   "id": "proved-sword",
   "metadata": {
    "ExecuteTime": {
     "end_time": "2023-06-28T17:17:32.114508Z",
     "start_time": "2023-06-28T17:17:32.110551Z"
    }
   },
   "outputs": [
    {
     "data": {
      "text/html": [
       "<div>\n",
       "<style scoped>\n",
       "    .dataframe tbody tr th:only-of-type {\n",
       "        vertical-align: middle;\n",
       "    }\n",
       "\n",
       "    .dataframe tbody tr th {\n",
       "        vertical-align: top;\n",
       "    }\n",
       "\n",
       "    .dataframe thead th {\n",
       "        text-align: right;\n",
       "    }\n",
       "</style>\n",
       "<table border=\"1\" class=\"dataframe\">\n",
       "  <thead>\n",
       "    <tr style=\"text-align: right;\">\n",
       "      <th></th>\n",
       "      <th>date</th>\n",
       "      <th>addstocart</th>\n",
       "    </tr>\n",
       "  </thead>\n",
       "  <tbody>\n",
       "    <tr>\n",
       "      <th>0</th>\n",
       "      <td>2012-07-01</td>\n",
       "      <td>191504</td>\n",
       "    </tr>\n",
       "    <tr>\n",
       "      <th>1</th>\n",
       "      <td>2012-08-01</td>\n",
       "      <td>217666</td>\n",
       "    </tr>\n",
       "    <tr>\n",
       "      <th>2</th>\n",
       "      <td>2012-09-01</td>\n",
       "      <td>123726</td>\n",
       "    </tr>\n",
       "    <tr>\n",
       "      <th>3</th>\n",
       "      <td>2012-10-01</td>\n",
       "      <td>139803</td>\n",
       "    </tr>\n",
       "    <tr>\n",
       "      <th>4</th>\n",
       "      <td>2012-11-01</td>\n",
       "      <td>186572</td>\n",
       "    </tr>\n",
       "    <tr>\n",
       "      <th>5</th>\n",
       "      <td>2012-12-01</td>\n",
       "      <td>168972</td>\n",
       "    </tr>\n",
       "    <tr>\n",
       "      <th>6</th>\n",
       "      <td>2013-01-01</td>\n",
       "      <td>147619</td>\n",
       "    </tr>\n",
       "    <tr>\n",
       "      <th>7</th>\n",
       "      <td>2013-02-01</td>\n",
       "      <td>135882</td>\n",
       "    </tr>\n",
       "    <tr>\n",
       "      <th>8</th>\n",
       "      <td>2013-03-01</td>\n",
       "      <td>109797</td>\n",
       "    </tr>\n",
       "    <tr>\n",
       "      <th>9</th>\n",
       "      <td>2013-04-01</td>\n",
       "      <td>183842</td>\n",
       "    </tr>\n",
       "    <tr>\n",
       "      <th>10</th>\n",
       "      <td>2013-05-01</td>\n",
       "      <td>136720</td>\n",
       "    </tr>\n",
       "    <tr>\n",
       "      <th>11</th>\n",
       "      <td>2013-06-01</td>\n",
       "      <td>107970</td>\n",
       "    </tr>\n",
       "  </tbody>\n",
       "</table>\n",
       "</div>"
      ],
      "text/plain": [
       "         date  addstocart\n",
       "0  2012-07-01      191504\n",
       "1  2012-08-01      217666\n",
       "2  2012-09-01      123726\n",
       "3  2012-10-01      139803\n",
       "4  2012-11-01      186572\n",
       "5  2012-12-01      168972\n",
       "6  2013-01-01      147619\n",
       "7  2013-02-01      135882\n",
       "8  2013-03-01      109797\n",
       "9  2013-04-01      183842\n",
       "10 2013-05-01      136720\n",
       "11 2013-06-01      107970"
      ]
     },
     "execution_count": 18,
     "metadata": {},
     "output_type": "execute_result"
    }
   ],
   "source": [
    "#Changing the order of the columns\n",
    "\n",
    "addstocart=addstocart.iloc[:,[1,0]]\n",
    "addstocart"
   ]
  },
  {
   "cell_type": "markdown",
   "id": "funded-entrance",
   "metadata": {},
   "source": [
    "Now the addstocart dataset is clean and ready for analysis. "
   ]
  },
  {
   "cell_type": "markdown",
   "id": "therapeutic-honor",
   "metadata": {},
   "source": [
    "## 3 - Exploratory Data Analysis\n",
    "\n",
    "We looked at the data a bit with the info and describe commands but need to take a deeper dive into the data to truly understand it. "
   ]
  },
  {
   "cell_type": "markdown",
   "id": "beneficial-payment",
   "metadata": {},
   "source": [
    "### Session Counts"
   ]
  },
  {
   "cell_type": "code",
   "execution_count": 19,
   "id": "twelve-fishing",
   "metadata": {
    "ExecuteTime": {
     "end_time": "2023-06-28T17:17:32.119375Z",
     "start_time": "2023-06-28T17:17:32.115219Z"
    }
   },
   "outputs": [
    {
     "data": {
      "text/html": [
       "<div>\n",
       "<style scoped>\n",
       "    .dataframe tbody tr th:only-of-type {\n",
       "        vertical-align: middle;\n",
       "    }\n",
       "\n",
       "    .dataframe tbody tr th {\n",
       "        vertical-align: top;\n",
       "    }\n",
       "\n",
       "    .dataframe thead th {\n",
       "        text-align: right;\n",
       "    }\n",
       "</style>\n",
       "<table border=\"1\" class=\"dataframe\">\n",
       "  <thead>\n",
       "    <tr style=\"text-align: right;\">\n",
       "      <th></th>\n",
       "      <th>browser</th>\n",
       "      <th>device</th>\n",
       "      <th>date</th>\n",
       "      <th>sessions</th>\n",
       "      <th>transactions</th>\n",
       "      <th>quantity</th>\n",
       "    </tr>\n",
       "  </thead>\n",
       "  <tbody>\n",
       "    <tr>\n",
       "      <th>0</th>\n",
       "      <td>Safari</td>\n",
       "      <td>tablet</td>\n",
       "      <td>2012-07-01</td>\n",
       "      <td>2928</td>\n",
       "      <td>127</td>\n",
       "      <td>221</td>\n",
       "    </tr>\n",
       "    <tr>\n",
       "      <th>1</th>\n",
       "      <td>Internet Explorer</td>\n",
       "      <td>desktop</td>\n",
       "      <td>2012-07-01</td>\n",
       "      <td>1106</td>\n",
       "      <td>28</td>\n",
       "      <td>0</td>\n",
       "    </tr>\n",
       "    <tr>\n",
       "      <th>2</th>\n",
       "      <td>Chrome</td>\n",
       "      <td>tablet</td>\n",
       "      <td>2012-07-01</td>\n",
       "      <td>474</td>\n",
       "      <td>3</td>\n",
       "      <td>13</td>\n",
       "    </tr>\n",
       "    <tr>\n",
       "      <th>3</th>\n",
       "      <td>Amazon Silk</td>\n",
       "      <td>tablet</td>\n",
       "      <td>2012-07-01</td>\n",
       "      <td>235</td>\n",
       "      <td>4</td>\n",
       "      <td>5</td>\n",
       "    </tr>\n",
       "    <tr>\n",
       "      <th>4</th>\n",
       "      <td>Internet Explorer</td>\n",
       "      <td>mobile</td>\n",
       "      <td>2012-07-01</td>\n",
       "      <td>178</td>\n",
       "      <td>6</td>\n",
       "      <td>11</td>\n",
       "    </tr>\n",
       "  </tbody>\n",
       "</table>\n",
       "</div>"
      ],
      "text/plain": [
       "             browser   device       date  sessions  transactions  quantity\n",
       "0             Safari   tablet 2012-07-01      2928           127       221\n",
       "1  Internet Explorer  desktop 2012-07-01      1106            28         0\n",
       "2             Chrome   tablet 2012-07-01       474             3        13\n",
       "3        Amazon Silk   tablet 2012-07-01       235             4         5\n",
       "4  Internet Explorer   mobile 2012-07-01       178             6        11"
      ]
     },
     "execution_count": 19,
     "metadata": {},
     "output_type": "execute_result"
    }
   ],
   "source": [
    "#Inspect\n",
    "\n",
    "sessioncounts.head()"
   ]
  },
  {
   "cell_type": "markdown",
   "id": "thick-syndrome",
   "metadata": {},
   "source": [
    "Looking at the first 5 rows gives us some good information. This is clearly a list of internet browsers, the device used to browse, the date accessed, the number of sessions, transactions and quantity during those sessions. From this we can deduce that each row is likely a different individual's data for that specific date. There does not seem to be any identifying column for the individual though (no id column). Therefore the individuals are not under scrutiny but rather their actions while on the internet. \n",
    "\n",
    "Fictional seems to be an ecommerce website. Sessions is therefore the number of times people logged on the website, likely structured by time so 30 min intervals, for example. Transactions is likely the number of purchases and quantity is likely referring to the number of items bought. These will be the assumptions moving forward."
   ]
  },
  {
   "cell_type": "markdown",
   "id": "failing-community",
   "metadata": {},
   "source": [
    "Next, let's look at some simple descriptive statistics of the numerical columns."
   ]
  },
  {
   "cell_type": "code",
   "execution_count": 20,
   "id": "institutional-brook",
   "metadata": {
    "ExecuteTime": {
     "end_time": "2023-06-28T17:17:32.127890Z",
     "start_time": "2023-06-28T17:17:32.119957Z"
    }
   },
   "outputs": [
    {
     "data": {
      "text/html": [
       "<div>\n",
       "<style scoped>\n",
       "    .dataframe tbody tr th:only-of-type {\n",
       "        vertical-align: middle;\n",
       "    }\n",
       "\n",
       "    .dataframe tbody tr th {\n",
       "        vertical-align: top;\n",
       "    }\n",
       "\n",
       "    .dataframe thead th {\n",
       "        text-align: right;\n",
       "    }\n",
       "</style>\n",
       "<table border=\"1\" class=\"dataframe\">\n",
       "  <thead>\n",
       "    <tr style=\"text-align: right;\">\n",
       "      <th></th>\n",
       "      <th>count</th>\n",
       "      <th>mean</th>\n",
       "      <th>std</th>\n",
       "      <th>min</th>\n",
       "      <th>25%</th>\n",
       "      <th>50%</th>\n",
       "      <th>75%</th>\n",
       "      <th>max</th>\n",
       "    </tr>\n",
       "  </thead>\n",
       "  <tbody>\n",
       "    <tr>\n",
       "      <th>sessions</th>\n",
       "      <td>7734.0</td>\n",
       "      <td>1347.157099</td>\n",
       "      <td>3623.452668</td>\n",
       "      <td>0.0</td>\n",
       "      <td>3.0</td>\n",
       "      <td>23.0</td>\n",
       "      <td>772.0</td>\n",
       "      <td>43559.0</td>\n",
       "    </tr>\n",
       "    <tr>\n",
       "      <th>transactions</th>\n",
       "      <td>7734.0</td>\n",
       "      <td>32.280191</td>\n",
       "      <td>98.297805</td>\n",
       "      <td>0.0</td>\n",
       "      <td>0.0</td>\n",
       "      <td>0.0</td>\n",
       "      <td>9.0</td>\n",
       "      <td>1398.0</td>\n",
       "    </tr>\n",
       "    <tr>\n",
       "      <th>quantity</th>\n",
       "      <td>7734.0</td>\n",
       "      <td>58.291958</td>\n",
       "      <td>184.775650</td>\n",
       "      <td>0.0</td>\n",
       "      <td>0.0</td>\n",
       "      <td>0.0</td>\n",
       "      <td>12.0</td>\n",
       "      <td>2665.0</td>\n",
       "    </tr>\n",
       "  </tbody>\n",
       "</table>\n",
       "</div>"
      ],
      "text/plain": [
       "               count         mean          std  min  25%   50%    75%      max\n",
       "sessions      7734.0  1347.157099  3623.452668  0.0  3.0  23.0  772.0  43559.0\n",
       "transactions  7734.0    32.280191    98.297805  0.0  0.0   0.0    9.0   1398.0\n",
       "quantity      7734.0    58.291958   184.775650  0.0  0.0   0.0   12.0   2665.0"
      ]
     },
     "execution_count": 20,
     "metadata": {},
     "output_type": "execute_result"
    }
   ],
   "source": [
    "#Basic stats of each metric column to determine shape and skew.\n",
    "\n",
    "sessioncounts.describe().T"
   ]
  },
  {
   "cell_type": "markdown",
   "id": "objective-springfield",
   "metadata": {},
   "source": [
    "This gives us a small amount of insight. From this we can see that sessions has a large range in data with about half of the data occurring from 0-23 sessions. The max is very different from the 3rd quartile which indicates there are some outliers. We can see this pattern in transactions and quantity as well to a greater degree. All 3 columns have outliers with the vast majority of the data occurring close to 0. \n",
    "\n",
    "Because of the range and obviously tendency towards 0, this data is a good candidate for a box plot. "
   ]
  },
  {
   "cell_type": "code",
   "execution_count": 21,
   "id": "distributed-romantic",
   "metadata": {
    "ExecuteTime": {
     "end_time": "2023-06-28T17:17:32.409603Z",
     "start_time": "2023-06-28T17:17:32.128552Z"
    }
   },
   "outputs": [
    {
     "data": {
      "image/png": "[encoded data removed]",
      "text/plain": [
       "<Figure size 432x288 with 1 Axes>"
      ]
     },
     "metadata": {
      "needs_background": "light"
     },
     "output_type": "display_data"
    }
   ],
   "source": [
    "#Creating a box plot. \n",
    "\n",
    "import seaborn as sns\n",
    "\n",
    "sns.boxplot(data=sessioncounts[[\"transactions\", \"sessions\", \"quantity\"]], orient=\"h\")\n",
    "plt.title(\"Boxchart of Metrics\")\n",
    "plt.show()"
   ]
  },
  {
   "cell_type": "markdown",
   "id": "separate-traffic",
   "metadata": {},
   "source": [
    "This visually confirms our thinking above, that the majority of the data points lie closest to 0. In this graph, the outliers are colored black. You can see that the spread of outliers in sessions is large and over powers the actual box (which is where 75% of the data is). The scale of sessions is far larger than the transactions and quantity. So not everyone who shops their website, purchases goods.\n",
    "\n",
    "This means the number of transactions and the quantity purchased during them has a fairly linear relationship since the shape of the two boxes is similar. Sessions isn't much different, it just has more outliers. \n",
    "\n",
    "Another interesting display would be a line graph of all 3 metrics. "
   ]
  },
  {
   "cell_type": "code",
   "execution_count": 22,
   "id": "inner-hundred",
   "metadata": {
    "ExecuteTime": {
     "end_time": "2023-06-28T17:17:32.560438Z",
     "start_time": "2023-06-28T17:17:32.412806Z"
    }
   },
   "outputs": [
    {
     "data": {
      "image/png": "[encoded data removed]",
      "text/plain": [
       "<Figure size 432x288 with 3 Axes>"
      ]
     },
     "metadata": {},
     "output_type": "display_data"
    },
    {
     "data": {
      "text/plain": [
       "<Figure size 1440x1152 with 0 Axes>"
      ]
     },
     "metadata": {},
     "output_type": "display_data"
    }
   ],
   "source": [
    "#Creating a line graph\n",
    "\n",
    "plt.style.use('seaborn-whitegrid')\n",
    "\n",
    "#Plot 1:\n",
    "x = sessioncounts['date']\n",
    "y = sessioncounts['sessions']\n",
    "\n",
    "plt.subplot(3, 1, 1)\n",
    "plt.title(\"Sessions by Month\")\n",
    "plt.plot(x,y)\n",
    "\n",
    "#Plot 2:\n",
    "x = sessioncounts['date']\n",
    "y = sessioncounts['transactions']\n",
    "\n",
    "plt.subplot(3, 1, 2)\n",
    "plt.title(\"Transactions by Month\")\n",
    "plt.plot(x,y)\n",
    "\n",
    "#Plot 3:\n",
    "x = sessioncounts['date']\n",
    "y = sessioncounts['quantity']\n",
    "\n",
    "plt.subplot(3, 1, 3)\n",
    "plt.title(\"Quantity by Month\")\n",
    "plt.plot(x,y)\n",
    "\n",
    "plt.tight_layout()\n",
    "\n",
    "#Graph it\n",
    "plt.figure(figsize=(20,16))\n",
    "plt.show()\n"
   ]
  },
  {
   "cell_type": "markdown",
   "id": "studied-reunion",
   "metadata": {},
   "source": [
    "There are obviously ways to make these more beautiful and readable but in this instance since all 3 graphs have the same shape and spread, we cannot draw many conclusions so it isn't really worth the time.\n",
    "\n",
    "From all 3, we can see that there are a few noticeable spikes which seem to align with major holidays throughout the year (so major sale dates?): labor day, Christmas, Memorial Day, Fourth of July, etc. "
   ]
  },
  {
   "cell_type": "markdown",
   "id": "frozen-payroll",
   "metadata": {},
   "source": [
    "### Adds To Cart"
   ]
  },
  {
   "cell_type": "code",
   "execution_count": 23,
   "id": "danish-formula",
   "metadata": {
    "ExecuteTime": {
     "end_time": "2023-06-28T17:17:32.565893Z",
     "start_time": "2023-06-28T17:17:32.562512Z"
    }
   },
   "outputs": [
    {
     "data": {
      "text/html": [
       "<div>\n",
       "<style scoped>\n",
       "    .dataframe tbody tr th:only-of-type {\n",
       "        vertical-align: middle;\n",
       "    }\n",
       "\n",
       "    .dataframe tbody tr th {\n",
       "        vertical-align: top;\n",
       "    }\n",
       "\n",
       "    .dataframe thead th {\n",
       "        text-align: right;\n",
       "    }\n",
       "</style>\n",
       "<table border=\"1\" class=\"dataframe\">\n",
       "  <thead>\n",
       "    <tr style=\"text-align: right;\">\n",
       "      <th></th>\n",
       "      <th>date</th>\n",
       "      <th>addstocart</th>\n",
       "    </tr>\n",
       "  </thead>\n",
       "  <tbody>\n",
       "    <tr>\n",
       "      <th>0</th>\n",
       "      <td>2012-07-01</td>\n",
       "      <td>191504</td>\n",
       "    </tr>\n",
       "    <tr>\n",
       "      <th>1</th>\n",
       "      <td>2012-08-01</td>\n",
       "      <td>217666</td>\n",
       "    </tr>\n",
       "    <tr>\n",
       "      <th>2</th>\n",
       "      <td>2012-09-01</td>\n",
       "      <td>123726</td>\n",
       "    </tr>\n",
       "    <tr>\n",
       "      <th>3</th>\n",
       "      <td>2012-10-01</td>\n",
       "      <td>139803</td>\n",
       "    </tr>\n",
       "    <tr>\n",
       "      <th>4</th>\n",
       "      <td>2012-11-01</td>\n",
       "      <td>186572</td>\n",
       "    </tr>\n",
       "  </tbody>\n",
       "</table>\n",
       "</div>"
      ],
      "text/plain": [
       "        date  addstocart\n",
       "0 2012-07-01      191504\n",
       "1 2012-08-01      217666\n",
       "2 2012-09-01      123726\n",
       "3 2012-10-01      139803\n",
       "4 2012-11-01      186572"
      ]
     },
     "execution_count": 23,
     "metadata": {},
     "output_type": "execute_result"
    }
   ],
   "source": [
    "#Inspect it\n",
    "\n",
    "addstocart.head()"
   ]
  },
  {
   "cell_type": "markdown",
   "id": "weekly-blast",
   "metadata": {},
   "source": [
    "One thing we can immediately note in comparison to the Session Counts data, is that the numbers of times an item is added to the cart is a far greater number than the number of transactions. So people are interested in purchasing the item but they could be waiting for a sale, get distracted and didn't complete checkout, or they just got cold feet and decided against the purchase. This is a useful value to have because people with items in their cart can be incentivized to complete check out with pop up or email discount codes. \n",
    "\n",
    "Now let's look at the describe. "
   ]
  },
  {
   "cell_type": "code",
   "execution_count": 24,
   "id": "perceived-powell",
   "metadata": {
    "ExecuteTime": {
     "end_time": "2023-06-28T17:17:32.572934Z",
     "start_time": "2023-06-28T17:17:32.566751Z"
    }
   },
   "outputs": [
    {
     "data": {
      "text/html": [
       "<div>\n",
       "<style scoped>\n",
       "    .dataframe tbody tr th:only-of-type {\n",
       "        vertical-align: middle;\n",
       "    }\n",
       "\n",
       "    .dataframe tbody tr th {\n",
       "        vertical-align: top;\n",
       "    }\n",
       "\n",
       "    .dataframe thead th {\n",
       "        text-align: right;\n",
       "    }\n",
       "</style>\n",
       "<table border=\"1\" class=\"dataframe\">\n",
       "  <thead>\n",
       "    <tr style=\"text-align: right;\">\n",
       "      <th></th>\n",
       "      <th>count</th>\n",
       "      <th>mean</th>\n",
       "      <th>std</th>\n",
       "      <th>min</th>\n",
       "      <th>25%</th>\n",
       "      <th>50%</th>\n",
       "      <th>75%</th>\n",
       "      <th>max</th>\n",
       "    </tr>\n",
       "  </thead>\n",
       "  <tbody>\n",
       "    <tr>\n",
       "      <th>addstocart</th>\n",
       "      <td>12.0</td>\n",
       "      <td>154172.75</td>\n",
       "      <td>35024.025354</td>\n",
       "      <td>107970.0</td>\n",
       "      <td>132843.0</td>\n",
       "      <td>143711.0</td>\n",
       "      <td>184524.5</td>\n",
       "      <td>217666.0</td>\n",
       "    </tr>\n",
       "  </tbody>\n",
       "</table>\n",
       "</div>"
      ],
      "text/plain": [
       "            count       mean           std       min       25%       50%  \\\n",
       "addstocart   12.0  154172.75  35024.025354  107970.0  132843.0  143711.0   \n",
       "\n",
       "                 75%       max  \n",
       "addstocart  184524.5  217666.0  "
      ]
     },
     "execution_count": 24,
     "metadata": {},
     "output_type": "execute_result"
    }
   ],
   "source": [
    "#Get simple statistics\n",
    "\n",
    "addstocart.describe().T"
   ]
  },
  {
   "cell_type": "markdown",
   "id": "durable-reconstruction",
   "metadata": {},
   "source": [
    "Unlike Session Counts, this shows a more even distribution in data, ranging ~100,00, with fairly even jumps between the quartiles. Let's look at the tail to check something. "
   ]
  },
  {
   "cell_type": "code",
   "execution_count": 25,
   "id": "similar-spouse",
   "metadata": {
    "ExecuteTime": {
     "end_time": "2023-06-28T17:17:32.578466Z",
     "start_time": "2023-06-28T17:17:32.574326Z"
    }
   },
   "outputs": [
    {
     "data": {
      "text/html": [
       "<div>\n",
       "<style scoped>\n",
       "    .dataframe tbody tr th:only-of-type {\n",
       "        vertical-align: middle;\n",
       "    }\n",
       "\n",
       "    .dataframe tbody tr th {\n",
       "        vertical-align: top;\n",
       "    }\n",
       "\n",
       "    .dataframe thead th {\n",
       "        text-align: right;\n",
       "    }\n",
       "</style>\n",
       "<table border=\"1\" class=\"dataframe\">\n",
       "  <thead>\n",
       "    <tr style=\"text-align: right;\">\n",
       "      <th></th>\n",
       "      <th>date</th>\n",
       "      <th>addstocart</th>\n",
       "    </tr>\n",
       "  </thead>\n",
       "  <tbody>\n",
       "    <tr>\n",
       "      <th>7</th>\n",
       "      <td>2013-02-01</td>\n",
       "      <td>135882</td>\n",
       "    </tr>\n",
       "    <tr>\n",
       "      <th>8</th>\n",
       "      <td>2013-03-01</td>\n",
       "      <td>109797</td>\n",
       "    </tr>\n",
       "    <tr>\n",
       "      <th>9</th>\n",
       "      <td>2013-04-01</td>\n",
       "      <td>183842</td>\n",
       "    </tr>\n",
       "    <tr>\n",
       "      <th>10</th>\n",
       "      <td>2013-05-01</td>\n",
       "      <td>136720</td>\n",
       "    </tr>\n",
       "    <tr>\n",
       "      <th>11</th>\n",
       "      <td>2013-06-01</td>\n",
       "      <td>107970</td>\n",
       "    </tr>\n",
       "  </tbody>\n",
       "</table>\n",
       "</div>"
      ],
      "text/plain": [
       "         date  addstocart\n",
       "7  2013-02-01      135882\n",
       "8  2013-03-01      109797\n",
       "9  2013-04-01      183842\n",
       "10 2013-05-01      136720\n",
       "11 2013-06-01      107970"
      ]
     },
     "execution_count": 25,
     "metadata": {},
     "output_type": "execute_result"
    }
   ],
   "source": [
    "#Checking Tail\n",
    "\n",
    "addstocart.tail()"
   ]
  },
  {
   "cell_type": "markdown",
   "id": "stone-burton",
   "metadata": {},
   "source": [
    "It looks like there is no trend over time with adds to carts increasing or decreasing, it seems to be remain fairly even with small shifts. Let's graph that to see for sure. "
   ]
  },
  {
   "cell_type": "code",
   "execution_count": 26,
   "id": "bearing-consultation",
   "metadata": {
    "ExecuteTime": {
     "end_time": "2023-06-28T17:17:32.639097Z",
     "start_time": "2023-06-28T17:17:32.579469Z"
    }
   },
   "outputs": [
    {
     "data": {
      "image/png": "[encoded data removed]",
      "text/plain": [
       "<Figure size 432x288 with 1 Axes>"
      ]
     },
     "metadata": {},
     "output_type": "display_data"
    }
   ],
   "source": [
    "#Creating a line graph\n",
    "\n",
    "plt.style.use('seaborn-whitegrid')\n",
    "\n",
    "plt.plot(addstocart['date'], addstocart['addstocart'], color='red', marker='o')\n",
    "plt.title('Adds to Cart by Month', fontsize=14)\n",
    "plt.xlabel('Month', fontsize=14)\n",
    "plt.ylabel('# of Adds to Cart', fontsize=14)\n",
    "plt.grid(True)\n",
    "plt.show()"
   ]
  },
  {
   "cell_type": "markdown",
   "id": "otherwise-blowing",
   "metadata": {},
   "source": [
    "Looks like there were decreases in 9/2012 and 3/2013. This could be a place for further exploration. Especially in 9/2012-- September is a big sale month with labor day. Did more people check out during sales? March has a similar pattern-- Memorial Day perhaps? Seems to be an inverse relationship with common sale times. It would be worthwhile to add more years to this data to see if these are yearly trends or not. "
   ]
  },
  {
   "cell_type": "markdown",
   "id": "romantic-prescription",
   "metadata": {},
   "source": [
    "### Redefining The Problem\n",
    "\n",
    "Now that we understand the data given, we can adjust our problem to be an ecommerce website (Fictional) needing to look at the monthly analysis of sessions on the website and the number of purchases and total number of items bought. Additionally, they want to look at the number of times items were added to the cart in a month over month basis. "
   ]
  },
  {
   "cell_type": "markdown",
   "id": "happy-cleaners",
   "metadata": {},
   "source": [
    "## 4 - Answering the Problem \n",
    "\n",
    "We need to create 2 reports, but a third may provide more insight.  \n",
    "1. A report displaying Sessions, Transactions, Quantity, and ECR (Transactions / Sessions) grouped by Month and Device.\n",
    "2. A report displaying Month over Month comparison for all metrics (including the above and Adds to Cart) in the past 2 months plus the absolute and relative differences between. \n",
    "3. Any additional reports found-- these will be put into a third report because it's never a good idea to not follow exactly what a client expects!\n",
    "\n",
    "In this section we will generate the requested reports, but any analysis is saved for the last section \"Findings\". "
   ]
  },
  {
   "cell_type": "markdown",
   "id": "rational-unknown",
   "metadata": {},
   "source": [
    "### Report #1\n",
    "We'll focus on the first one initially. We don't need browser so we drop that. Then we need to group by month and device. Lastly we need to create the new ECR calculated column. "
   ]
  },
  {
   "cell_type": "code",
   "execution_count": 27,
   "id": "banner-brown",
   "metadata": {
    "ExecuteTime": {
     "end_time": "2023-06-28T17:17:32.642240Z",
     "start_time": "2023-06-28T17:17:32.640072Z"
    }
   },
   "outputs": [],
   "source": [
    "#Step 1 - Drop unnecessary columns\n",
    "\n",
    "report_1 = sessioncounts.drop(['browser'], axis=1)"
   ]
  },
  {
   "cell_type": "code",
   "execution_count": 28,
   "id": "automated-organic",
   "metadata": {
    "ExecuteTime": {
     "end_time": "2023-06-28T17:17:32.649147Z",
     "start_time": "2023-06-28T17:17:32.643058Z"
    }
   },
   "outputs": [
    {
     "data": {
      "text/html": [
       "<div>\n",
       "<style scoped>\n",
       "    .dataframe tbody tr th:only-of-type {\n",
       "        vertical-align: middle;\n",
       "    }\n",
       "\n",
       "    .dataframe tbody tr th {\n",
       "        vertical-align: top;\n",
       "    }\n",
       "\n",
       "    .dataframe thead th {\n",
       "        text-align: right;\n",
       "    }\n",
       "</style>\n",
       "<table border=\"1\" class=\"dataframe\">\n",
       "  <thead>\n",
       "    <tr style=\"text-align: right;\">\n",
       "      <th></th>\n",
       "      <th></th>\n",
       "      <th>sessions</th>\n",
       "      <th>transactions</th>\n",
       "      <th>quantity</th>\n",
       "    </tr>\n",
       "    <tr>\n",
       "      <th>date</th>\n",
       "      <th>device</th>\n",
       "      <th></th>\n",
       "      <th></th>\n",
       "      <th></th>\n",
       "    </tr>\n",
       "  </thead>\n",
       "  <tbody>\n",
       "    <tr>\n",
       "      <th rowspan=\"3\" valign=\"top\">2012-07-01</th>\n",
       "      <th>desktop</th>\n",
       "      <td>1117</td>\n",
       "      <td>28</td>\n",
       "      <td>0</td>\n",
       "    </tr>\n",
       "    <tr>\n",
       "      <th>mobile</th>\n",
       "      <td>201</td>\n",
       "      <td>6</td>\n",
       "      <td>11</td>\n",
       "    </tr>\n",
       "    <tr>\n",
       "      <th>tablet</th>\n",
       "      <td>3758</td>\n",
       "      <td>141</td>\n",
       "      <td>239</td>\n",
       "    </tr>\n",
       "    <tr>\n",
       "      <th rowspan=\"2\" valign=\"top\">2012-07-02</th>\n",
       "      <th>desktop</th>\n",
       "      <td>6004</td>\n",
       "      <td>120</td>\n",
       "      <td>272</td>\n",
       "    </tr>\n",
       "    <tr>\n",
       "      <th>mobile</th>\n",
       "      <td>2373</td>\n",
       "      <td>7</td>\n",
       "      <td>12</td>\n",
       "    </tr>\n",
       "  </tbody>\n",
       "</table>\n",
       "</div>"
      ],
      "text/plain": [
       "                    sessions  transactions  quantity\n",
       "date       device                                   \n",
       "2012-07-01 desktop      1117            28         0\n",
       "           mobile        201             6        11\n",
       "           tablet       3758           141       239\n",
       "2012-07-02 desktop      6004           120       272\n",
       "           mobile       2373             7        12"
      ]
     },
     "execution_count": 28,
     "metadata": {},
     "output_type": "execute_result"
    }
   ],
   "source": [
    "#Step 2 - Group by date and device.\n",
    "\n",
    "report_1= report_1.groupby(by=['date', 'device']).agg('sum')[['sessions', 'transactions', 'quantity']]\n",
    "\n",
    "#Checking\n",
    "\n",
    "report_1.head()"
   ]
  },
  {
   "cell_type": "code",
   "execution_count": 29,
   "id": "charming-nomination",
   "metadata": {
    "ExecuteTime": {
     "end_time": "2023-06-28T17:17:32.657557Z",
     "start_time": "2023-06-28T17:17:32.649883Z"
    }
   },
   "outputs": [
    {
     "data": {
      "text/html": [
       "<div>\n",
       "<style scoped>\n",
       "    .dataframe tbody tr th:only-of-type {\n",
       "        vertical-align: middle;\n",
       "    }\n",
       "\n",
       "    .dataframe tbody tr th {\n",
       "        vertical-align: top;\n",
       "    }\n",
       "\n",
       "    .dataframe thead th {\n",
       "        text-align: right;\n",
       "    }\n",
       "</style>\n",
       "<table border=\"1\" class=\"dataframe\">\n",
       "  <thead>\n",
       "    <tr style=\"text-align: right;\">\n",
       "      <th></th>\n",
       "      <th></th>\n",
       "      <th>transactions</th>\n",
       "      <th>sessions</th>\n",
       "      <th>ecr</th>\n",
       "      <th>quantity</th>\n",
       "    </tr>\n",
       "    <tr>\n",
       "      <th>date</th>\n",
       "      <th>device</th>\n",
       "      <th></th>\n",
       "      <th></th>\n",
       "      <th></th>\n",
       "      <th></th>\n",
       "    </tr>\n",
       "  </thead>\n",
       "  <tbody>\n",
       "    <tr>\n",
       "      <th rowspan=\"3\" valign=\"top\">2012-07-01</th>\n",
       "      <th>desktop</th>\n",
       "      <td>28</td>\n",
       "      <td>1117</td>\n",
       "      <td>2.51</td>\n",
       "      <td>0</td>\n",
       "    </tr>\n",
       "    <tr>\n",
       "      <th>mobile</th>\n",
       "      <td>6</td>\n",
       "      <td>201</td>\n",
       "      <td>2.99</td>\n",
       "      <td>11</td>\n",
       "    </tr>\n",
       "    <tr>\n",
       "      <th>tablet</th>\n",
       "      <td>141</td>\n",
       "      <td>3758</td>\n",
       "      <td>3.75</td>\n",
       "      <td>239</td>\n",
       "    </tr>\n",
       "    <tr>\n",
       "      <th rowspan=\"2\" valign=\"top\">2012-07-02</th>\n",
       "      <th>desktop</th>\n",
       "      <td>120</td>\n",
       "      <td>6004</td>\n",
       "      <td>2.00</td>\n",
       "      <td>272</td>\n",
       "    </tr>\n",
       "    <tr>\n",
       "      <th>mobile</th>\n",
       "      <td>7</td>\n",
       "      <td>2373</td>\n",
       "      <td>0.29</td>\n",
       "      <td>12</td>\n",
       "    </tr>\n",
       "    <tr>\n",
       "      <th>...</th>\n",
       "      <th>...</th>\n",
       "      <td>...</td>\n",
       "      <td>...</td>\n",
       "      <td>...</td>\n",
       "      <td>...</td>\n",
       "    </tr>\n",
       "    <tr>\n",
       "      <th rowspan=\"2\" valign=\"top\">2013-06-29</th>\n",
       "      <th>mobile</th>\n",
       "      <td>74</td>\n",
       "      <td>9131</td>\n",
       "      <td>0.81</td>\n",
       "      <td>125</td>\n",
       "    </tr>\n",
       "    <tr>\n",
       "      <th>tablet</th>\n",
       "      <td>5</td>\n",
       "      <td>294</td>\n",
       "      <td>1.70</td>\n",
       "      <td>4</td>\n",
       "    </tr>\n",
       "    <tr>\n",
       "      <th rowspan=\"3\" valign=\"top\">2013-06-30</th>\n",
       "      <th>desktop</th>\n",
       "      <td>533</td>\n",
       "      <td>19241</td>\n",
       "      <td>2.77</td>\n",
       "      <td>966</td>\n",
       "    </tr>\n",
       "    <tr>\n",
       "      <th>mobile</th>\n",
       "      <td>94</td>\n",
       "      <td>10692</td>\n",
       "      <td>0.88</td>\n",
       "      <td>187</td>\n",
       "    </tr>\n",
       "    <tr>\n",
       "      <th>tablet</th>\n",
       "      <td>98</td>\n",
       "      <td>3534</td>\n",
       "      <td>2.77</td>\n",
       "      <td>162</td>\n",
       "    </tr>\n",
       "  </tbody>\n",
       "</table>\n",
       "<p>1095 rows × 4 columns</p>\n",
       "</div>"
      ],
      "text/plain": [
       "                    transactions  sessions   ecr  quantity\n",
       "date       device                                         \n",
       "2012-07-01 desktop            28      1117  2.51         0\n",
       "           mobile              6       201  2.99        11\n",
       "           tablet            141      3758  3.75       239\n",
       "2012-07-02 desktop           120      6004  2.00       272\n",
       "           mobile              7      2373  0.29        12\n",
       "...                          ...       ...   ...       ...\n",
       "2013-06-29 mobile             74      9131  0.81       125\n",
       "           tablet              5       294  1.70         4\n",
       "2013-06-30 desktop           533     19241  2.77       966\n",
       "           mobile             94     10692  0.88       187\n",
       "           tablet             98      3534  2.77       162\n",
       "\n",
       "[1095 rows x 4 columns]"
      ]
     },
     "execution_count": 29,
     "metadata": {},
     "output_type": "execute_result"
    }
   ],
   "source": [
    "#Step 3 - Created ECR Column (transactions/sessions)\n",
    "\n",
    "report_1['ecr']= (report_1['transactions'] / report_1['sessions'] * 100).round(2)\n",
    "\n",
    "\n",
    "#Step 4 - Reorder the columns so ECR is near Sessions & Transactions and swap the two.\n",
    "\n",
    "report_1=report_1.iloc[:,[1,0,3,2]]\n",
    "\n",
    "\n",
    "#Checking\n",
    "\n",
    "report_1"
   ]
  },
  {
   "cell_type": "markdown",
   "id": "unavailable-carter",
   "metadata": {},
   "source": [
    "This satisfies the requirements of Fictional's ask for Report #1. We have transactions, sessions, ecr and quantity grouped by both date and device. Let's save the file. "
   ]
  },
  {
   "cell_type": "code",
   "execution_count": 30,
   "id": "latin-parade",
   "metadata": {
    "ExecuteTime": {
     "end_time": "2023-06-28T17:17:33.017030Z",
     "start_time": "2023-06-28T17:17:32.658217Z"
    }
   },
   "outputs": [],
   "source": [
    "#Saving it to xlsx\n",
    "\n",
    "from openpyxl import load_workbook\n",
    "\n",
    "path = r\"/Users/elizabethmiller/Desktop/elizabethmiller_report.xlsx\"\n",
    "\n",
    "book = load_workbook(path)\n",
    "writer = pd.ExcelWriter(path, engine = 'openpyxl')\n",
    "writer.book = book\n",
    "\n",
    "report_1.to_excel(writer, sheet_name = 'report_1')\n",
    "\n",
    "writer.close()"
   ]
  },
  {
   "cell_type": "markdown",
   "id": "rocky-nomination",
   "metadata": {},
   "source": [
    "### Report #2\n",
    "\n",
    "For the second report we need to complete a few steps first to create the dataframe we want in order to do the month over month analysis. We need to drop the browser and device columns as those were not mentioned in the instructions, and we need to change the date columns to be month/year without days. This is important because there is a granularity difference between the Session Counts table and the Adds to Cart table-- Session counts is at the daily level and Adds to Cart is monthly. To do this we will sum sessions, transactions and quantity by the date. "
   ]
  },
  {
   "cell_type": "code",
   "execution_count": 31,
   "id": "ranking-cyprus",
   "metadata": {
    "ExecuteTime": {
     "end_time": "2023-06-28T17:17:33.042020Z",
     "start_time": "2023-06-28T17:17:33.017795Z"
    }
   },
   "outputs": [
    {
     "data": {
      "text/html": [
       "<div>\n",
       "<style scoped>\n",
       "    .dataframe tbody tr th:only-of-type {\n",
       "        vertical-align: middle;\n",
       "    }\n",
       "\n",
       "    .dataframe tbody tr th {\n",
       "        vertical-align: top;\n",
       "    }\n",
       "\n",
       "    .dataframe thead th {\n",
       "        text-align: right;\n",
       "    }\n",
       "</style>\n",
       "<table border=\"1\" class=\"dataframe\">\n",
       "  <thead>\n",
       "    <tr style=\"text-align: right;\">\n",
       "      <th></th>\n",
       "      <th>sessions</th>\n",
       "      <th>transactions</th>\n",
       "      <th>quantity</th>\n",
       "    </tr>\n",
       "    <tr>\n",
       "      <th>date</th>\n",
       "      <th></th>\n",
       "      <th></th>\n",
       "      <th></th>\n",
       "    </tr>\n",
       "  </thead>\n",
       "  <tbody>\n",
       "    <tr>\n",
       "      <th>01-2013</th>\n",
       "      <td>899992</td>\n",
       "      <td>21560</td>\n",
       "      <td>38846</td>\n",
       "    </tr>\n",
       "    <tr>\n",
       "      <th>02-2013</th>\n",
       "      <td>550227</td>\n",
       "      <td>14166</td>\n",
       "      <td>27048</td>\n",
       "    </tr>\n",
       "    <tr>\n",
       "      <th>03-2013</th>\n",
       "      <td>788820</td>\n",
       "      <td>17804</td>\n",
       "      <td>32082</td>\n",
       "    </tr>\n",
       "    <tr>\n",
       "      <th>04-2013</th>\n",
       "      <td>1296613</td>\n",
       "      <td>30369</td>\n",
       "      <td>54946</td>\n",
       "    </tr>\n",
       "    <tr>\n",
       "      <th>05-2013</th>\n",
       "      <td>1164639</td>\n",
       "      <td>28389</td>\n",
       "      <td>51629</td>\n",
       "    </tr>\n",
       "    <tr>\n",
       "      <th>06-2013</th>\n",
       "      <td>1388834</td>\n",
       "      <td>34538</td>\n",
       "      <td>61891</td>\n",
       "    </tr>\n",
       "    <tr>\n",
       "      <th>07-2012</th>\n",
       "      <td>768589</td>\n",
       "      <td>18161</td>\n",
       "      <td>31804</td>\n",
       "    </tr>\n",
       "    <tr>\n",
       "      <th>08-2012</th>\n",
       "      <td>822493</td>\n",
       "      <td>19279</td>\n",
       "      <td>34648</td>\n",
       "    </tr>\n",
       "    <tr>\n",
       "      <th>09-2012</th>\n",
       "      <td>662653</td>\n",
       "      <td>15658</td>\n",
       "      <td>28426</td>\n",
       "    </tr>\n",
       "    <tr>\n",
       "      <th>10-2012</th>\n",
       "      <td>648639</td>\n",
       "      <td>14275</td>\n",
       "      <td>26626</td>\n",
       "    </tr>\n",
       "    <tr>\n",
       "      <th>11-2012</th>\n",
       "      <td>637780</td>\n",
       "      <td>15527</td>\n",
       "      <td>28132</td>\n",
       "    </tr>\n",
       "    <tr>\n",
       "      <th>12-2012</th>\n",
       "      <td>789634</td>\n",
       "      <td>19929</td>\n",
       "      <td>34752</td>\n",
       "    </tr>\n",
       "  </tbody>\n",
       "</table>\n",
       "</div>"
      ],
      "text/plain": [
       "         sessions  transactions  quantity\n",
       "date                                     \n",
       "01-2013    899992         21560     38846\n",
       "02-2013    550227         14166     27048\n",
       "03-2013    788820         17804     32082\n",
       "04-2013   1296613         30369     54946\n",
       "05-2013   1164639         28389     51629\n",
       "06-2013   1388834         34538     61891\n",
       "07-2012    768589         18161     31804\n",
       "08-2012    822493         19279     34648\n",
       "09-2012    662653         15658     28426\n",
       "10-2012    648639         14275     26626\n",
       "11-2012    637780         15527     28132\n",
       "12-2012    789634         19929     34752"
      ]
     },
     "execution_count": 31,
     "metadata": {},
     "output_type": "execute_result"
    }
   ],
   "source": [
    "#Step 1 - Drop unnecessary columns\n",
    "\n",
    "report_2=sessioncounts.drop(['browser', 'device'], axis=1)\n",
    "\n",
    "\n",
    "#Step 2 - Change the date to month/year\n",
    "\n",
    "report_2['date'] = report_2['date'].dt.strftime(\"%m-%Y\")\n",
    "\n",
    "\n",
    "#Step 3 - group by date and sum by the metrics.\n",
    "\n",
    "report_2=report_2.groupby(by=['date']).agg('sum')[['sessions', 'transactions', 'quantity']]\n",
    "\n",
    "\n",
    "#Check it out\n",
    "\n",
    "report_2\n"
   ]
  },
  {
   "cell_type": "markdown",
   "id": "complete-imagination",
   "metadata": {},
   "source": [
    "Looks good. Now let's change the Adds To Cart table to match-- it's date column is month/firstday/year which won't join to our above table. Then we can join the 2 tables. "
   ]
  },
  {
   "cell_type": "code",
   "execution_count": 32,
   "id": "excess-anaheim",
   "metadata": {
    "ExecuteTime": {
     "end_time": "2023-06-28T17:17:33.048415Z",
     "start_time": "2023-06-28T17:17:33.042744Z"
    }
   },
   "outputs": [
    {
     "data": {
      "text/html": [
       "<div>\n",
       "<style scoped>\n",
       "    .dataframe tbody tr th:only-of-type {\n",
       "        vertical-align: middle;\n",
       "    }\n",
       "\n",
       "    .dataframe tbody tr th {\n",
       "        vertical-align: top;\n",
       "    }\n",
       "\n",
       "    .dataframe thead th {\n",
       "        text-align: right;\n",
       "    }\n",
       "</style>\n",
       "<table border=\"1\" class=\"dataframe\">\n",
       "  <thead>\n",
       "    <tr style=\"text-align: right;\">\n",
       "      <th></th>\n",
       "      <th>date</th>\n",
       "      <th>sessions</th>\n",
       "      <th>transactions</th>\n",
       "      <th>quantity</th>\n",
       "      <th>addstocart</th>\n",
       "    </tr>\n",
       "  </thead>\n",
       "  <tbody>\n",
       "    <tr>\n",
       "      <th>0</th>\n",
       "      <td>01-2013</td>\n",
       "      <td>899992</td>\n",
       "      <td>21560</td>\n",
       "      <td>38846</td>\n",
       "      <td>147619</td>\n",
       "    </tr>\n",
       "    <tr>\n",
       "      <th>1</th>\n",
       "      <td>02-2013</td>\n",
       "      <td>550227</td>\n",
       "      <td>14166</td>\n",
       "      <td>27048</td>\n",
       "      <td>135882</td>\n",
       "    </tr>\n",
       "    <tr>\n",
       "      <th>2</th>\n",
       "      <td>03-2013</td>\n",
       "      <td>788820</td>\n",
       "      <td>17804</td>\n",
       "      <td>32082</td>\n",
       "      <td>109797</td>\n",
       "    </tr>\n",
       "    <tr>\n",
       "      <th>3</th>\n",
       "      <td>04-2013</td>\n",
       "      <td>1296613</td>\n",
       "      <td>30369</td>\n",
       "      <td>54946</td>\n",
       "      <td>183842</td>\n",
       "    </tr>\n",
       "    <tr>\n",
       "      <th>4</th>\n",
       "      <td>05-2013</td>\n",
       "      <td>1164639</td>\n",
       "      <td>28389</td>\n",
       "      <td>51629</td>\n",
       "      <td>136720</td>\n",
       "    </tr>\n",
       "    <tr>\n",
       "      <th>5</th>\n",
       "      <td>06-2013</td>\n",
       "      <td>1388834</td>\n",
       "      <td>34538</td>\n",
       "      <td>61891</td>\n",
       "      <td>107970</td>\n",
       "    </tr>\n",
       "    <tr>\n",
       "      <th>6</th>\n",
       "      <td>07-2012</td>\n",
       "      <td>768589</td>\n",
       "      <td>18161</td>\n",
       "      <td>31804</td>\n",
       "      <td>191504</td>\n",
       "    </tr>\n",
       "    <tr>\n",
       "      <th>7</th>\n",
       "      <td>08-2012</td>\n",
       "      <td>822493</td>\n",
       "      <td>19279</td>\n",
       "      <td>34648</td>\n",
       "      <td>217666</td>\n",
       "    </tr>\n",
       "    <tr>\n",
       "      <th>8</th>\n",
       "      <td>09-2012</td>\n",
       "      <td>662653</td>\n",
       "      <td>15658</td>\n",
       "      <td>28426</td>\n",
       "      <td>123726</td>\n",
       "    </tr>\n",
       "    <tr>\n",
       "      <th>9</th>\n",
       "      <td>10-2012</td>\n",
       "      <td>648639</td>\n",
       "      <td>14275</td>\n",
       "      <td>26626</td>\n",
       "      <td>139803</td>\n",
       "    </tr>\n",
       "    <tr>\n",
       "      <th>10</th>\n",
       "      <td>11-2012</td>\n",
       "      <td>637780</td>\n",
       "      <td>15527</td>\n",
       "      <td>28132</td>\n",
       "      <td>186572</td>\n",
       "    </tr>\n",
       "    <tr>\n",
       "      <th>11</th>\n",
       "      <td>12-2012</td>\n",
       "      <td>789634</td>\n",
       "      <td>19929</td>\n",
       "      <td>34752</td>\n",
       "      <td>168972</td>\n",
       "    </tr>\n",
       "  </tbody>\n",
       "</table>\n",
       "</div>"
      ],
      "text/plain": [
       "       date  sessions  transactions  quantity  addstocart\n",
       "0   01-2013    899992         21560     38846      147619\n",
       "1   02-2013    550227         14166     27048      135882\n",
       "2   03-2013    788820         17804     32082      109797\n",
       "3   04-2013   1296613         30369     54946      183842\n",
       "4   05-2013   1164639         28389     51629      136720\n",
       "5   06-2013   1388834         34538     61891      107970\n",
       "6   07-2012    768589         18161     31804      191504\n",
       "7   08-2012    822493         19279     34648      217666\n",
       "8   09-2012    662653         15658     28426      123726\n",
       "9   10-2012    648639         14275     26626      139803\n",
       "10  11-2012    637780         15527     28132      186572\n",
       "11  12-2012    789634         19929     34752      168972"
      ]
     },
     "execution_count": 32,
     "metadata": {},
     "output_type": "execute_result"
    }
   ],
   "source": [
    "#Do the same to the addstocart table\n",
    "\n",
    "addstocart['date'] = addstocart['date'].dt.strftime(\"%m-%Y\")\n",
    "addstocart\n",
    "\n",
    "\n",
    "#Now join the 2 tables\n",
    "\n",
    "report_2=report_2.merge(addstocart, on='date', how='left')\n",
    "report_2"
   ]
  },
  {
   "cell_type": "markdown",
   "id": "loose-pierce",
   "metadata": {},
   "source": [
    "Lastly, we need to add back in the ECR column and rearrange the columns again. "
   ]
  },
  {
   "cell_type": "code",
   "execution_count": 33,
   "id": "actual-adoption",
   "metadata": {
    "ExecuteTime": {
     "end_time": "2023-06-28T17:17:33.054523Z",
     "start_time": "2023-06-28T17:17:33.049166Z"
    }
   },
   "outputs": [
    {
     "data": {
      "text/html": [
       "<div>\n",
       "<style scoped>\n",
       "    .dataframe tbody tr th:only-of-type {\n",
       "        vertical-align: middle;\n",
       "    }\n",
       "\n",
       "    .dataframe tbody tr th {\n",
       "        vertical-align: top;\n",
       "    }\n",
       "\n",
       "    .dataframe thead th {\n",
       "        text-align: right;\n",
       "    }\n",
       "</style>\n",
       "<table border=\"1\" class=\"dataframe\">\n",
       "  <thead>\n",
       "    <tr style=\"text-align: right;\">\n",
       "      <th></th>\n",
       "      <th>date</th>\n",
       "      <th>addstocart</th>\n",
       "      <th>sessions</th>\n",
       "      <th>ecr</th>\n",
       "      <th>transactions</th>\n",
       "      <th>quantity</th>\n",
       "    </tr>\n",
       "  </thead>\n",
       "  <tbody>\n",
       "    <tr>\n",
       "      <th>0</th>\n",
       "      <td>01-2013</td>\n",
       "      <td>147619</td>\n",
       "      <td>899992</td>\n",
       "      <td>2.40</td>\n",
       "      <td>21560</td>\n",
       "      <td>38846</td>\n",
       "    </tr>\n",
       "    <tr>\n",
       "      <th>1</th>\n",
       "      <td>02-2013</td>\n",
       "      <td>135882</td>\n",
       "      <td>550227</td>\n",
       "      <td>2.57</td>\n",
       "      <td>14166</td>\n",
       "      <td>27048</td>\n",
       "    </tr>\n",
       "    <tr>\n",
       "      <th>2</th>\n",
       "      <td>03-2013</td>\n",
       "      <td>109797</td>\n",
       "      <td>788820</td>\n",
       "      <td>2.26</td>\n",
       "      <td>17804</td>\n",
       "      <td>32082</td>\n",
       "    </tr>\n",
       "    <tr>\n",
       "      <th>3</th>\n",
       "      <td>04-2013</td>\n",
       "      <td>183842</td>\n",
       "      <td>1296613</td>\n",
       "      <td>2.34</td>\n",
       "      <td>30369</td>\n",
       "      <td>54946</td>\n",
       "    </tr>\n",
       "    <tr>\n",
       "      <th>4</th>\n",
       "      <td>05-2013</td>\n",
       "      <td>136720</td>\n",
       "      <td>1164639</td>\n",
       "      <td>2.44</td>\n",
       "      <td>28389</td>\n",
       "      <td>51629</td>\n",
       "    </tr>\n",
       "    <tr>\n",
       "      <th>5</th>\n",
       "      <td>06-2013</td>\n",
       "      <td>107970</td>\n",
       "      <td>1388834</td>\n",
       "      <td>2.49</td>\n",
       "      <td>34538</td>\n",
       "      <td>61891</td>\n",
       "    </tr>\n",
       "    <tr>\n",
       "      <th>6</th>\n",
       "      <td>07-2012</td>\n",
       "      <td>191504</td>\n",
       "      <td>768589</td>\n",
       "      <td>2.36</td>\n",
       "      <td>18161</td>\n",
       "      <td>31804</td>\n",
       "    </tr>\n",
       "    <tr>\n",
       "      <th>7</th>\n",
       "      <td>08-2012</td>\n",
       "      <td>217666</td>\n",
       "      <td>822493</td>\n",
       "      <td>2.34</td>\n",
       "      <td>19279</td>\n",
       "      <td>34648</td>\n",
       "    </tr>\n",
       "    <tr>\n",
       "      <th>8</th>\n",
       "      <td>09-2012</td>\n",
       "      <td>123726</td>\n",
       "      <td>662653</td>\n",
       "      <td>2.36</td>\n",
       "      <td>15658</td>\n",
       "      <td>28426</td>\n",
       "    </tr>\n",
       "    <tr>\n",
       "      <th>9</th>\n",
       "      <td>10-2012</td>\n",
       "      <td>139803</td>\n",
       "      <td>648639</td>\n",
       "      <td>2.20</td>\n",
       "      <td>14275</td>\n",
       "      <td>26626</td>\n",
       "    </tr>\n",
       "    <tr>\n",
       "      <th>10</th>\n",
       "      <td>11-2012</td>\n",
       "      <td>186572</td>\n",
       "      <td>637780</td>\n",
       "      <td>2.43</td>\n",
       "      <td>15527</td>\n",
       "      <td>28132</td>\n",
       "    </tr>\n",
       "    <tr>\n",
       "      <th>11</th>\n",
       "      <td>12-2012</td>\n",
       "      <td>168972</td>\n",
       "      <td>789634</td>\n",
       "      <td>2.52</td>\n",
       "      <td>19929</td>\n",
       "      <td>34752</td>\n",
       "    </tr>\n",
       "  </tbody>\n",
       "</table>\n",
       "</div>"
      ],
      "text/plain": [
       "       date  addstocart  sessions   ecr  transactions  quantity\n",
       "0   01-2013      147619    899992  2.40         21560     38846\n",
       "1   02-2013      135882    550227  2.57         14166     27048\n",
       "2   03-2013      109797    788820  2.26         17804     32082\n",
       "3   04-2013      183842   1296613  2.34         30369     54946\n",
       "4   05-2013      136720   1164639  2.44         28389     51629\n",
       "5   06-2013      107970   1388834  2.49         34538     61891\n",
       "6   07-2012      191504    768589  2.36         18161     31804\n",
       "7   08-2012      217666    822493  2.34         19279     34648\n",
       "8   09-2012      123726    662653  2.36         15658     28426\n",
       "9   10-2012      139803    648639  2.20         14275     26626\n",
       "10  11-2012      186572    637780  2.43         15527     28132\n",
       "11  12-2012      168972    789634  2.52         19929     34752"
      ]
     },
     "execution_count": 33,
     "metadata": {},
     "output_type": "execute_result"
    }
   ],
   "source": [
    "#Step 1 - Create ECR Column (transactions/sessions)\n",
    "\n",
    "report_2['ecr']= (report_2['transactions'] / report_2['sessions'] * 100).round(2)\n",
    "\n",
    "\n",
    "#Step 2 - Reorder the columns so ECR is near Sessions & Transactions and swap the two.\n",
    "\n",
    "report_2=report_2.iloc[:,[0, 4, 1, 5, 2, 3]]\n",
    "\n",
    "\n",
    "#Step 3 - Saving for report 3 analysis\n",
    "\n",
    "report_3 = report_2\n",
    "\n",
    "#Checking\n",
    "\n",
    "report_2"
   ]
  },
  {
   "cell_type": "markdown",
   "id": "atomic-composition",
   "metadata": {},
   "source": [
    "The report is now in the correct format but it's going to sort the data incorrectly due to the string type date column, so let's convert it back to datetime, sort by it and keep only the last 2 rows (most current) as specified by the report. "
   ]
  },
  {
   "cell_type": "code",
   "execution_count": 34,
   "id": "prescribed-merit",
   "metadata": {
    "ExecuteTime": {
     "end_time": "2023-06-28T17:17:33.059652Z",
     "start_time": "2023-06-28T17:17:33.055209Z"
    }
   },
   "outputs": [
    {
     "data": {
      "text/html": [
       "<div>\n",
       "<style scoped>\n",
       "    .dataframe tbody tr th:only-of-type {\n",
       "        vertical-align: middle;\n",
       "    }\n",
       "\n",
       "    .dataframe tbody tr th {\n",
       "        vertical-align: top;\n",
       "    }\n",
       "\n",
       "    .dataframe thead th {\n",
       "        text-align: right;\n",
       "    }\n",
       "</style>\n",
       "<table border=\"1\" class=\"dataframe\">\n",
       "  <thead>\n",
       "    <tr style=\"text-align: right;\">\n",
       "      <th></th>\n",
       "      <th>date</th>\n",
       "      <th>addstocart</th>\n",
       "      <th>sessions</th>\n",
       "      <th>ecr</th>\n",
       "      <th>transactions</th>\n",
       "      <th>quantity</th>\n",
       "    </tr>\n",
       "  </thead>\n",
       "  <tbody>\n",
       "    <tr>\n",
       "      <th>4</th>\n",
       "      <td>2013-05-01</td>\n",
       "      <td>136720</td>\n",
       "      <td>1164639</td>\n",
       "      <td>2.44</td>\n",
       "      <td>28389</td>\n",
       "      <td>51629</td>\n",
       "    </tr>\n",
       "    <tr>\n",
       "      <th>5</th>\n",
       "      <td>2013-06-01</td>\n",
       "      <td>107970</td>\n",
       "      <td>1388834</td>\n",
       "      <td>2.49</td>\n",
       "      <td>34538</td>\n",
       "      <td>61891</td>\n",
       "    </tr>\n",
       "  </tbody>\n",
       "</table>\n",
       "</div>"
      ],
      "text/plain": [
       "        date  addstocart  sessions   ecr  transactions  quantity\n",
       "4 2013-05-01      136720   1164639  2.44         28389     51629\n",
       "5 2013-06-01      107970   1388834  2.49         34538     61891"
      ]
     },
     "execution_count": 34,
     "metadata": {},
     "output_type": "execute_result"
    }
   ],
   "source": [
    "#Reset the index.\n",
    "\n",
    "report_2.reset_index(drop=True, inplace=True)\n",
    "\n",
    "\n",
    "#Set the date column as datetime again. \n",
    "\n",
    "report_2['date']=pd.to_datetime(report_2['date'])\n",
    "\n",
    "\n",
    "#Sort by the 'date' column.\n",
    "\n",
    "report_2.sort_values('date', inplace=True)\n",
    "\n",
    "\n",
    "# Capture only the last two rows\n",
    "\n",
    "report_2 = report_2.tail(2)\n",
    "\n",
    "\n",
    "#Checking\n",
    "\n",
    "report_2"
   ]
  },
  {
   "cell_type": "markdown",
   "id": "loved-danish",
   "metadata": {},
   "source": [
    "Now we can begin the month over month analysis. There are many ways to do this such as using shift or transform... or we can just write a simple loop and take the difference. "
   ]
  },
  {
   "cell_type": "code",
   "execution_count": 35,
   "id": "banner-alfred",
   "metadata": {
    "ExecuteTime": {
     "end_time": "2023-06-28T17:17:33.069035Z",
     "start_time": "2023-06-28T17:17:33.060302Z"
    }
   },
   "outputs": [
    {
     "data": {
      "text/html": [
       "<div>\n",
       "<style scoped>\n",
       "    .dataframe tbody tr th:only-of-type {\n",
       "        vertical-align: middle;\n",
       "    }\n",
       "\n",
       "    .dataframe tbody tr th {\n",
       "        vertical-align: top;\n",
       "    }\n",
       "\n",
       "    .dataframe thead th {\n",
       "        text-align: right;\n",
       "    }\n",
       "</style>\n",
       "<table border=\"1\" class=\"dataframe\">\n",
       "  <thead>\n",
       "    <tr style=\"text-align: right;\">\n",
       "      <th></th>\n",
       "      <th>date</th>\n",
       "      <th>addstocart</th>\n",
       "      <th>sessions</th>\n",
       "      <th>ecr</th>\n",
       "      <th>transactions</th>\n",
       "      <th>quantity</th>\n",
       "      <th>addstocart_diff</th>\n",
       "      <th>sessions_diff</th>\n",
       "      <th>ecr_diff</th>\n",
       "      <th>transactions_diff</th>\n",
       "      <th>quantity_diff</th>\n",
       "      <th>addstocart_absdiff</th>\n",
       "      <th>sessions_absdiff</th>\n",
       "      <th>ecr_absdiff</th>\n",
       "      <th>transactions_absdiff</th>\n",
       "      <th>quantity_absdiff</th>\n",
       "    </tr>\n",
       "  </thead>\n",
       "  <tbody>\n",
       "    <tr>\n",
       "      <th>4</th>\n",
       "      <td>2013-05-01</td>\n",
       "      <td>136720</td>\n",
       "      <td>1164639</td>\n",
       "      <td>2.44</td>\n",
       "      <td>28389</td>\n",
       "      <td>51629</td>\n",
       "      <td>NaN</td>\n",
       "      <td>NaN</td>\n",
       "      <td>NaN</td>\n",
       "      <td>NaN</td>\n",
       "      <td>NaN</td>\n",
       "      <td>NaN</td>\n",
       "      <td>NaN</td>\n",
       "      <td>NaN</td>\n",
       "      <td>NaN</td>\n",
       "      <td>NaN</td>\n",
       "    </tr>\n",
       "    <tr>\n",
       "      <th>5</th>\n",
       "      <td>2013-06-01</td>\n",
       "      <td>107970</td>\n",
       "      <td>1388834</td>\n",
       "      <td>2.49</td>\n",
       "      <td>34538</td>\n",
       "      <td>61891</td>\n",
       "      <td>-28750.0</td>\n",
       "      <td>224195.0</td>\n",
       "      <td>0.05</td>\n",
       "      <td>6149.0</td>\n",
       "      <td>10262.0</td>\n",
       "      <td>28750.0</td>\n",
       "      <td>224195.0</td>\n",
       "      <td>0.05</td>\n",
       "      <td>6149.0</td>\n",
       "      <td>10262.0</td>\n",
       "    </tr>\n",
       "  </tbody>\n",
       "</table>\n",
       "</div>"
      ],
      "text/plain": [
       "        date  addstocart  sessions   ecr  transactions  quantity  \\\n",
       "4 2013-05-01      136720   1164639  2.44         28389     51629   \n",
       "5 2013-06-01      107970   1388834  2.49         34538     61891   \n",
       "\n",
       "   addstocart_diff  sessions_diff  ecr_diff  transactions_diff  quantity_diff  \\\n",
       "4              NaN            NaN       NaN                NaN            NaN   \n",
       "5         -28750.0       224195.0      0.05             6149.0        10262.0   \n",
       "\n",
       "   addstocart_absdiff  sessions_absdiff  ecr_absdiff  transactions_absdiff  \\\n",
       "4                 NaN               NaN          NaN                   NaN   \n",
       "5             28750.0          224195.0         0.05                6149.0   \n",
       "\n",
       "   quantity_absdiff  \n",
       "4               NaN  \n",
       "5           10262.0  "
      ]
     },
     "execution_count": 35,
     "metadata": {},
     "output_type": "execute_result"
    }
   ],
   "source": [
    "#Finding the difference of each metric.\n",
    "\n",
    "columns_to_change = ['addstocart', 'sessions', 'ecr', 'transactions', 'quantity']\n",
    "\n",
    "for column in columns_to_change:\n",
    "    report_2[f'{column}_diff'] = report_2[column].diff()\n",
    "\n",
    "    \n",
    "#Finding the absolute difference of each metric.\n",
    "\n",
    "columns_to_change = ['addstocart', 'sessions', 'ecr', 'transactions', 'quantity']\n",
    "\n",
    "for column in columns_to_change:\n",
    "    report_2[f'{column}_absdiff'] = report_2[column].diff().abs()\n",
    "\n",
    "\n",
    "#Checking\n",
    "\n",
    "report_2"
   ]
  },
  {
   "cell_type": "markdown",
   "id": "active-workplace",
   "metadata": {},
   "source": [
    "This looks great but it's a little difficult to read since the same column values are spread apart. Let's reorder it so all the same columns metrics are together."
   ]
  },
  {
   "cell_type": "code",
   "execution_count": 36,
   "id": "coated-hungary",
   "metadata": {
    "ExecuteTime": {
     "end_time": "2023-06-28T17:17:33.075917Z",
     "start_time": "2023-06-28T17:17:33.069725Z"
    }
   },
   "outputs": [
    {
     "data": {
      "text/html": [
       "<div>\n",
       "<style scoped>\n",
       "    .dataframe tbody tr th:only-of-type {\n",
       "        vertical-align: middle;\n",
       "    }\n",
       "\n",
       "    .dataframe tbody tr th {\n",
       "        vertical-align: top;\n",
       "    }\n",
       "\n",
       "    .dataframe thead th {\n",
       "        text-align: right;\n",
       "    }\n",
       "</style>\n",
       "<table border=\"1\" class=\"dataframe\">\n",
       "  <thead>\n",
       "    <tr style=\"text-align: right;\">\n",
       "      <th></th>\n",
       "      <th>date</th>\n",
       "      <th>addstocart</th>\n",
       "      <th>addstocart_diff</th>\n",
       "      <th>addstocart_absdiff</th>\n",
       "      <th>sessions</th>\n",
       "      <th>sessions_diff</th>\n",
       "      <th>sessions_absdiff</th>\n",
       "      <th>ecr</th>\n",
       "      <th>ecr_diff</th>\n",
       "      <th>ecr_absdiff</th>\n",
       "      <th>transactions</th>\n",
       "      <th>transactions_diff</th>\n",
       "      <th>transactions_absdiff</th>\n",
       "      <th>quantity</th>\n",
       "      <th>quantity_diff</th>\n",
       "      <th>quantity_absdiff</th>\n",
       "    </tr>\n",
       "  </thead>\n",
       "  <tbody>\n",
       "    <tr>\n",
       "      <th>4</th>\n",
       "      <td>2013-05-01</td>\n",
       "      <td>136720</td>\n",
       "      <td>NaN</td>\n",
       "      <td>NaN</td>\n",
       "      <td>1164639</td>\n",
       "      <td>NaN</td>\n",
       "      <td>NaN</td>\n",
       "      <td>2.44</td>\n",
       "      <td>NaN</td>\n",
       "      <td>NaN</td>\n",
       "      <td>28389</td>\n",
       "      <td>NaN</td>\n",
       "      <td>NaN</td>\n",
       "      <td>51629</td>\n",
       "      <td>NaN</td>\n",
       "      <td>NaN</td>\n",
       "    </tr>\n",
       "    <tr>\n",
       "      <th>5</th>\n",
       "      <td>2013-06-01</td>\n",
       "      <td>107970</td>\n",
       "      <td>-28750.0</td>\n",
       "      <td>28750.0</td>\n",
       "      <td>1388834</td>\n",
       "      <td>224195.0</td>\n",
       "      <td>224195.0</td>\n",
       "      <td>2.49</td>\n",
       "      <td>0.05</td>\n",
       "      <td>0.05</td>\n",
       "      <td>34538</td>\n",
       "      <td>6149.0</td>\n",
       "      <td>6149.0</td>\n",
       "      <td>61891</td>\n",
       "      <td>10262.0</td>\n",
       "      <td>10262.0</td>\n",
       "    </tr>\n",
       "  </tbody>\n",
       "</table>\n",
       "</div>"
      ],
      "text/plain": [
       "        date  addstocart  addstocart_diff  addstocart_absdiff  sessions  \\\n",
       "4 2013-05-01      136720              NaN                 NaN   1164639   \n",
       "5 2013-06-01      107970         -28750.0             28750.0   1388834   \n",
       "\n",
       "   sessions_diff  sessions_absdiff   ecr  ecr_diff  ecr_absdiff  transactions  \\\n",
       "4            NaN               NaN  2.44       NaN          NaN         28389   \n",
       "5       224195.0          224195.0  2.49      0.05         0.05         34538   \n",
       "\n",
       "   transactions_diff  transactions_absdiff  quantity  quantity_diff  \\\n",
       "4                NaN                   NaN     51629            NaN   \n",
       "5             6149.0                6149.0     61891        10262.0   \n",
       "\n",
       "   quantity_absdiff  \n",
       "4               NaN  \n",
       "5           10262.0  "
      ]
     },
     "execution_count": 36,
     "metadata": {},
     "output_type": "execute_result"
    }
   ],
   "source": [
    "#Reordering\n",
    "\n",
    "report_2=report_2.iloc[:,[0, 1, 6, 11, 2, 7, 12, 3, 8, 13, 4, 9, 14, 5, 10, 15]]\n",
    "\n",
    "#Checking\n",
    "\n",
    "report_2"
   ]
  },
  {
   "cell_type": "markdown",
   "id": "advance-breach",
   "metadata": {},
   "source": [
    "This satisfies the requirements for report #2. We have prior month, current month and then the relative and absolute differences between the 2. \n",
    "\n",
    "**Note: Since we are only using 2 months for this analysis, the previous month's difference show as null since there was nothing to compare against.**"
   ]
  },
  {
   "cell_type": "code",
   "execution_count": 37,
   "id": "desirable-burns",
   "metadata": {
    "ExecuteTime": {
     "end_time": "2023-06-28T17:17:33.320285Z",
     "start_time": "2023-06-28T17:17:33.076582Z"
    }
   },
   "outputs": [],
   "source": [
    "#Saving it as xlsx\n",
    "\n",
    "path = r\"/Users/elizabethmiller/Desktop/elizabethmiller_report.xlsx\"\n",
    "\n",
    "book = load_workbook(path)\n",
    "writer = pd.ExcelWriter(path, engine = 'openpyxl')\n",
    "writer.book = book\n",
    "\n",
    "report_2.to_excel(writer, sheet_name = 'report_2')\n",
    "\n",
    "writer.close()"
   ]
  },
  {
   "cell_type": "markdown",
   "id": "dense-product",
   "metadata": {},
   "source": [
    "### Report #3\n",
    "\n",
    "For the third report, we can do anything we want. An interesting metric that we have not investigated yet is how often items were added to the cart vs. actually purchased (transactions)-- we'll call this purchase rate. The previous report showed a trend here. Additionally, does the quantity of items purchased relate to the number of sessions (volume by sessions)?\n",
    "\n",
    "To do this, we'll use the report_3 generated earlier and create new columns for each of those metrics. "
   ]
  },
  {
   "cell_type": "code",
   "execution_count": 38,
   "id": "passive-price",
   "metadata": {
    "ExecuteTime": {
     "end_time": "2023-06-28T17:17:33.327815Z",
     "start_time": "2023-06-28T17:17:33.320959Z"
    }
   },
   "outputs": [
    {
     "data": {
      "text/html": [
       "<div>\n",
       "<style scoped>\n",
       "    .dataframe tbody tr th:only-of-type {\n",
       "        vertical-align: middle;\n",
       "    }\n",
       "\n",
       "    .dataframe tbody tr th {\n",
       "        vertical-align: top;\n",
       "    }\n",
       "\n",
       "    .dataframe thead th {\n",
       "        text-align: right;\n",
       "    }\n",
       "</style>\n",
       "<table border=\"1\" class=\"dataframe\">\n",
       "  <thead>\n",
       "    <tr style=\"text-align: right;\">\n",
       "      <th></th>\n",
       "      <th>date</th>\n",
       "      <th>addstocart</th>\n",
       "      <th>sessions</th>\n",
       "      <th>ecr</th>\n",
       "      <th>transactions</th>\n",
       "      <th>quantity</th>\n",
       "      <th>purchase_rate</th>\n",
       "      <th>volume_by_sessions</th>\n",
       "    </tr>\n",
       "  </thead>\n",
       "  <tbody>\n",
       "    <tr>\n",
       "      <th>6</th>\n",
       "      <td>2012-07-01</td>\n",
       "      <td>191504</td>\n",
       "      <td>768589</td>\n",
       "      <td>2.36</td>\n",
       "      <td>18161</td>\n",
       "      <td>31804</td>\n",
       "      <td>9.48</td>\n",
       "      <td>4.14</td>\n",
       "    </tr>\n",
       "    <tr>\n",
       "      <th>7</th>\n",
       "      <td>2012-08-01</td>\n",
       "      <td>217666</td>\n",
       "      <td>822493</td>\n",
       "      <td>2.34</td>\n",
       "      <td>19279</td>\n",
       "      <td>34648</td>\n",
       "      <td>8.86</td>\n",
       "      <td>4.21</td>\n",
       "    </tr>\n",
       "    <tr>\n",
       "      <th>8</th>\n",
       "      <td>2012-09-01</td>\n",
       "      <td>123726</td>\n",
       "      <td>662653</td>\n",
       "      <td>2.36</td>\n",
       "      <td>15658</td>\n",
       "      <td>28426</td>\n",
       "      <td>12.66</td>\n",
       "      <td>4.29</td>\n",
       "    </tr>\n",
       "    <tr>\n",
       "      <th>9</th>\n",
       "      <td>2012-10-01</td>\n",
       "      <td>139803</td>\n",
       "      <td>648639</td>\n",
       "      <td>2.20</td>\n",
       "      <td>14275</td>\n",
       "      <td>26626</td>\n",
       "      <td>10.21</td>\n",
       "      <td>4.10</td>\n",
       "    </tr>\n",
       "    <tr>\n",
       "      <th>10</th>\n",
       "      <td>2012-11-01</td>\n",
       "      <td>186572</td>\n",
       "      <td>637780</td>\n",
       "      <td>2.43</td>\n",
       "      <td>15527</td>\n",
       "      <td>28132</td>\n",
       "      <td>8.32</td>\n",
       "      <td>4.41</td>\n",
       "    </tr>\n",
       "    <tr>\n",
       "      <th>11</th>\n",
       "      <td>2012-12-01</td>\n",
       "      <td>168972</td>\n",
       "      <td>789634</td>\n",
       "      <td>2.52</td>\n",
       "      <td>19929</td>\n",
       "      <td>34752</td>\n",
       "      <td>11.79</td>\n",
       "      <td>4.40</td>\n",
       "    </tr>\n",
       "    <tr>\n",
       "      <th>0</th>\n",
       "      <td>2013-01-01</td>\n",
       "      <td>147619</td>\n",
       "      <td>899992</td>\n",
       "      <td>2.40</td>\n",
       "      <td>21560</td>\n",
       "      <td>38846</td>\n",
       "      <td>14.61</td>\n",
       "      <td>4.32</td>\n",
       "    </tr>\n",
       "    <tr>\n",
       "      <th>1</th>\n",
       "      <td>2013-02-01</td>\n",
       "      <td>135882</td>\n",
       "      <td>550227</td>\n",
       "      <td>2.57</td>\n",
       "      <td>14166</td>\n",
       "      <td>27048</td>\n",
       "      <td>10.43</td>\n",
       "      <td>4.92</td>\n",
       "    </tr>\n",
       "    <tr>\n",
       "      <th>2</th>\n",
       "      <td>2013-03-01</td>\n",
       "      <td>109797</td>\n",
       "      <td>788820</td>\n",
       "      <td>2.26</td>\n",
       "      <td>17804</td>\n",
       "      <td>32082</td>\n",
       "      <td>16.22</td>\n",
       "      <td>4.07</td>\n",
       "    </tr>\n",
       "    <tr>\n",
       "      <th>3</th>\n",
       "      <td>2013-04-01</td>\n",
       "      <td>183842</td>\n",
       "      <td>1296613</td>\n",
       "      <td>2.34</td>\n",
       "      <td>30369</td>\n",
       "      <td>54946</td>\n",
       "      <td>16.52</td>\n",
       "      <td>4.24</td>\n",
       "    </tr>\n",
       "    <tr>\n",
       "      <th>4</th>\n",
       "      <td>2013-05-01</td>\n",
       "      <td>136720</td>\n",
       "      <td>1164639</td>\n",
       "      <td>2.44</td>\n",
       "      <td>28389</td>\n",
       "      <td>51629</td>\n",
       "      <td>20.76</td>\n",
       "      <td>4.43</td>\n",
       "    </tr>\n",
       "    <tr>\n",
       "      <th>5</th>\n",
       "      <td>2013-06-01</td>\n",
       "      <td>107970</td>\n",
       "      <td>1388834</td>\n",
       "      <td>2.49</td>\n",
       "      <td>34538</td>\n",
       "      <td>61891</td>\n",
       "      <td>31.99</td>\n",
       "      <td>4.46</td>\n",
       "    </tr>\n",
       "  </tbody>\n",
       "</table>\n",
       "</div>"
      ],
      "text/plain": [
       "         date  addstocart  sessions   ecr  transactions  quantity  \\\n",
       "6  2012-07-01      191504    768589  2.36         18161     31804   \n",
       "7  2012-08-01      217666    822493  2.34         19279     34648   \n",
       "8  2012-09-01      123726    662653  2.36         15658     28426   \n",
       "9  2012-10-01      139803    648639  2.20         14275     26626   \n",
       "10 2012-11-01      186572    637780  2.43         15527     28132   \n",
       "11 2012-12-01      168972    789634  2.52         19929     34752   \n",
       "0  2013-01-01      147619    899992  2.40         21560     38846   \n",
       "1  2013-02-01      135882    550227  2.57         14166     27048   \n",
       "2  2013-03-01      109797    788820  2.26         17804     32082   \n",
       "3  2013-04-01      183842   1296613  2.34         30369     54946   \n",
       "4  2013-05-01      136720   1164639  2.44         28389     51629   \n",
       "5  2013-06-01      107970   1388834  2.49         34538     61891   \n",
       "\n",
       "    purchase_rate  volume_by_sessions  \n",
       "6            9.48                4.14  \n",
       "7            8.86                4.21  \n",
       "8           12.66                4.29  \n",
       "9           10.21                4.10  \n",
       "10           8.32                4.41  \n",
       "11          11.79                4.40  \n",
       "0           14.61                4.32  \n",
       "1           10.43                4.92  \n",
       "2           16.22                4.07  \n",
       "3           16.52                4.24  \n",
       "4           20.76                4.43  \n",
       "5           31.99                4.46  "
      ]
     },
     "execution_count": 38,
     "metadata": {},
     "output_type": "execute_result"
    }
   ],
   "source": [
    "#Creating Purchase Rate\n",
    "report_3['purchase_rate'] = ((report_3['transactions'] / report_3['addstocart'])*100).round(2)\n",
    "\n",
    "\n",
    "#Creating Volume by Sessions\n",
    "report_3['volume_by_sessions'] = ((report_3['quantity'] / report_3['sessions'])*100).round(2)\n",
    "\n",
    "\n",
    "#Checking\n",
    "report_3"
   ]
  },
  {
   "cell_type": "markdown",
   "id": "domestic-frame",
   "metadata": {},
   "source": [
    "Let's save this as a report in the excel file, and we'll analyze our findings below. "
   ]
  },
  {
   "cell_type": "code",
   "execution_count": 39,
   "id": "unlikely-adventure",
   "metadata": {
    "ExecuteTime": {
     "end_time": "2023-06-28T17:17:33.569048Z",
     "start_time": "2023-06-28T17:17:33.328606Z"
    }
   },
   "outputs": [],
   "source": [
    "#Saving it as xlsx\n",
    "\n",
    "path = r\"/Users/elizabethmiller/Desktop/elizabethmiller_report.xlsx\"\n",
    "\n",
    "book = load_workbook(path)\n",
    "writer = pd.ExcelWriter(path, engine = 'openpyxl')\n",
    "writer.book = book\n",
    "\n",
    "report_3.to_excel(writer, sheet_name = 'report_3')\n",
    "\n",
    "writer.close()"
   ]
  },
  {
   "cell_type": "markdown",
   "id": "compound-macedonia",
   "metadata": {},
   "source": [
    "## 5 - Findings"
   ]
  },
  {
   "cell_type": "markdown",
   "id": "celtic-gossip",
   "metadata": {},
   "source": [
    "### Report 1"
   ]
  },
  {
   "cell_type": "code",
   "execution_count": 40,
   "id": "prompt-cutting",
   "metadata": {
    "ExecuteTime": {
     "end_time": "2023-06-28T17:17:33.576477Z",
     "start_time": "2023-06-28T17:17:33.569757Z"
    }
   },
   "outputs": [
    {
     "data": {
      "text/html": [
       "<div>\n",
       "<style scoped>\n",
       "    .dataframe tbody tr th:only-of-type {\n",
       "        vertical-align: middle;\n",
       "    }\n",
       "\n",
       "    .dataframe tbody tr th {\n",
       "        vertical-align: top;\n",
       "    }\n",
       "\n",
       "    .dataframe thead th {\n",
       "        text-align: right;\n",
       "    }\n",
       "</style>\n",
       "<table border=\"1\" class=\"dataframe\">\n",
       "  <thead>\n",
       "    <tr style=\"text-align: right;\">\n",
       "      <th></th>\n",
       "      <th></th>\n",
       "      <th>transactions</th>\n",
       "      <th>sessions</th>\n",
       "      <th>ecr</th>\n",
       "      <th>quantity</th>\n",
       "    </tr>\n",
       "    <tr>\n",
       "      <th>date</th>\n",
       "      <th>device</th>\n",
       "      <th></th>\n",
       "      <th></th>\n",
       "      <th></th>\n",
       "      <th></th>\n",
       "    </tr>\n",
       "  </thead>\n",
       "  <tbody>\n",
       "    <tr>\n",
       "      <th rowspan=\"3\" valign=\"top\">2012-07-01</th>\n",
       "      <th>desktop</th>\n",
       "      <td>28</td>\n",
       "      <td>1117</td>\n",
       "      <td>2.51</td>\n",
       "      <td>0</td>\n",
       "    </tr>\n",
       "    <tr>\n",
       "      <th>mobile</th>\n",
       "      <td>6</td>\n",
       "      <td>201</td>\n",
       "      <td>2.99</td>\n",
       "      <td>11</td>\n",
       "    </tr>\n",
       "    <tr>\n",
       "      <th>tablet</th>\n",
       "      <td>141</td>\n",
       "      <td>3758</td>\n",
       "      <td>3.75</td>\n",
       "      <td>239</td>\n",
       "    </tr>\n",
       "    <tr>\n",
       "      <th rowspan=\"2\" valign=\"top\">2012-07-02</th>\n",
       "      <th>desktop</th>\n",
       "      <td>120</td>\n",
       "      <td>6004</td>\n",
       "      <td>2.00</td>\n",
       "      <td>272</td>\n",
       "    </tr>\n",
       "    <tr>\n",
       "      <th>mobile</th>\n",
       "      <td>7</td>\n",
       "      <td>2373</td>\n",
       "      <td>0.29</td>\n",
       "      <td>12</td>\n",
       "    </tr>\n",
       "    <tr>\n",
       "      <th>...</th>\n",
       "      <th>...</th>\n",
       "      <td>...</td>\n",
       "      <td>...</td>\n",
       "      <td>...</td>\n",
       "      <td>...</td>\n",
       "    </tr>\n",
       "    <tr>\n",
       "      <th rowspan=\"2\" valign=\"top\">2013-06-29</th>\n",
       "      <th>mobile</th>\n",
       "      <td>74</td>\n",
       "      <td>9131</td>\n",
       "      <td>0.81</td>\n",
       "      <td>125</td>\n",
       "    </tr>\n",
       "    <tr>\n",
       "      <th>tablet</th>\n",
       "      <td>5</td>\n",
       "      <td>294</td>\n",
       "      <td>1.70</td>\n",
       "      <td>4</td>\n",
       "    </tr>\n",
       "    <tr>\n",
       "      <th rowspan=\"3\" valign=\"top\">2013-06-30</th>\n",
       "      <th>desktop</th>\n",
       "      <td>533</td>\n",
       "      <td>19241</td>\n",
       "      <td>2.77</td>\n",
       "      <td>966</td>\n",
       "    </tr>\n",
       "    <tr>\n",
       "      <th>mobile</th>\n",
       "      <td>94</td>\n",
       "      <td>10692</td>\n",
       "      <td>0.88</td>\n",
       "      <td>187</td>\n",
       "    </tr>\n",
       "    <tr>\n",
       "      <th>tablet</th>\n",
       "      <td>98</td>\n",
       "      <td>3534</td>\n",
       "      <td>2.77</td>\n",
       "      <td>162</td>\n",
       "    </tr>\n",
       "  </tbody>\n",
       "</table>\n",
       "<p>1095 rows × 4 columns</p>\n",
       "</div>"
      ],
      "text/plain": [
       "                    transactions  sessions   ecr  quantity\n",
       "date       device                                         \n",
       "2012-07-01 desktop            28      1117  2.51         0\n",
       "           mobile              6       201  2.99        11\n",
       "           tablet            141      3758  3.75       239\n",
       "2012-07-02 desktop           120      6004  2.00       272\n",
       "           mobile              7      2373  0.29        12\n",
       "...                          ...       ...   ...       ...\n",
       "2013-06-29 mobile             74      9131  0.81       125\n",
       "           tablet              5       294  1.70         4\n",
       "2013-06-30 desktop           533     19241  2.77       966\n",
       "           mobile             94     10692  0.88       187\n",
       "           tablet             98      3534  2.77       162\n",
       "\n",
       "[1095 rows x 4 columns]"
      ]
     },
     "execution_count": 40,
     "metadata": {},
     "output_type": "execute_result"
    }
   ],
   "source": [
    "#Reminder of report 1\n",
    "report_1"
   ]
  },
  {
   "cell_type": "markdown",
   "id": "seasonal-alpha",
   "metadata": {},
   "source": [
    "Using the report, we can visualize it to more easily determine some analysis. "
   ]
  },
  {
   "cell_type": "code",
   "execution_count": 41,
   "id": "atmospheric-radar",
   "metadata": {
    "ExecuteTime": {
     "end_time": "2023-06-28T17:17:33.703649Z",
     "start_time": "2023-06-28T17:17:33.577245Z"
    }
   },
   "outputs": [
    {
     "data": {
      "text/plain": [
       "<AxesSubplot:title={'center':'ECR by Month'}, xlabel='date'>"
      ]
     },
     "execution_count": 41,
     "metadata": {},
     "output_type": "execute_result"
    },
    {
     "data": {
      "image/png": "[encoded data removed]",
      "text/plain": [
       "<Figure size 432x288 with 1 Axes>"
      ]
     },
     "metadata": {},
     "output_type": "display_data"
    }
   ],
   "source": [
    "#Visualize it \n",
    "\n",
    "viz_report_1= report_1.groupby(by=['date', 'device']).agg('sum')[['ecr']].unstack().plot(title=\"ECR by Month\")\n",
    "viz_report_1"
   ]
  },
  {
   "cell_type": "markdown",
   "id": "lonely-smoke",
   "metadata": {},
   "source": [
    "This graph tells us *how* people are shopping with Fictional. We can see that mobile has the lowest ECR, and desktop has this highest. This is important because Fictional should look into increasing ways to drive transactions in the mobile and tablet space. Do customers prefer desktop because it's easier to input their credit card details that way? Maybe look into a service like Shop Pay where customers just need to enter their email to pull up their bank/card details. Or even Paypal since Paypal will work with Apple's face recognition now. Perhaps this is a UX design issue and the website works best on desktop-- maybe investing in a UX designer can improve the mobile and tablet shopping experience. \n",
    "\n",
    "There are a couple of times in the year where tablet and mobile outperform desktop-- like in mid July, tablets had a surge of ECR. Are teens home for the summer avoiding their laptops? In December mobile had a surge-- is this due to the busy holiday season?\n",
    "\n",
    "These are all actionable questions that can lead to revenue. "
   ]
  },
  {
   "cell_type": "markdown",
   "id": "divided-mercury",
   "metadata": {},
   "source": [
    "### Report 2\n",
    "\n"
   ]
  },
  {
   "cell_type": "code",
   "execution_count": 42,
   "id": "express-antique",
   "metadata": {
    "ExecuteTime": {
     "end_time": "2023-06-28T17:17:33.710506Z",
     "start_time": "2023-06-28T17:17:33.704561Z"
    }
   },
   "outputs": [
    {
     "data": {
      "text/html": [
       "<div>\n",
       "<style scoped>\n",
       "    .dataframe tbody tr th:only-of-type {\n",
       "        vertical-align: middle;\n",
       "    }\n",
       "\n",
       "    .dataframe tbody tr th {\n",
       "        vertical-align: top;\n",
       "    }\n",
       "\n",
       "    .dataframe thead th {\n",
       "        text-align: right;\n",
       "    }\n",
       "</style>\n",
       "<table border=\"1\" class=\"dataframe\">\n",
       "  <thead>\n",
       "    <tr style=\"text-align: right;\">\n",
       "      <th></th>\n",
       "      <th>date</th>\n",
       "      <th>addstocart</th>\n",
       "      <th>addstocart_diff</th>\n",
       "      <th>addstocart_absdiff</th>\n",
       "      <th>sessions</th>\n",
       "      <th>sessions_diff</th>\n",
       "      <th>sessions_absdiff</th>\n",
       "      <th>ecr</th>\n",
       "      <th>ecr_diff</th>\n",
       "      <th>ecr_absdiff</th>\n",
       "      <th>transactions</th>\n",
       "      <th>transactions_diff</th>\n",
       "      <th>transactions_absdiff</th>\n",
       "      <th>quantity</th>\n",
       "      <th>quantity_diff</th>\n",
       "      <th>quantity_absdiff</th>\n",
       "    </tr>\n",
       "  </thead>\n",
       "  <tbody>\n",
       "    <tr>\n",
       "      <th>4</th>\n",
       "      <td>2013-05-01</td>\n",
       "      <td>136720</td>\n",
       "      <td>NaN</td>\n",
       "      <td>NaN</td>\n",
       "      <td>1164639</td>\n",
       "      <td>NaN</td>\n",
       "      <td>NaN</td>\n",
       "      <td>2.44</td>\n",
       "      <td>NaN</td>\n",
       "      <td>NaN</td>\n",
       "      <td>28389</td>\n",
       "      <td>NaN</td>\n",
       "      <td>NaN</td>\n",
       "      <td>51629</td>\n",
       "      <td>NaN</td>\n",
       "      <td>NaN</td>\n",
       "    </tr>\n",
       "    <tr>\n",
       "      <th>5</th>\n",
       "      <td>2013-06-01</td>\n",
       "      <td>107970</td>\n",
       "      <td>-28750.0</td>\n",
       "      <td>28750.0</td>\n",
       "      <td>1388834</td>\n",
       "      <td>224195.0</td>\n",
       "      <td>224195.0</td>\n",
       "      <td>2.49</td>\n",
       "      <td>0.05</td>\n",
       "      <td>0.05</td>\n",
       "      <td>34538</td>\n",
       "      <td>6149.0</td>\n",
       "      <td>6149.0</td>\n",
       "      <td>61891</td>\n",
       "      <td>10262.0</td>\n",
       "      <td>10262.0</td>\n",
       "    </tr>\n",
       "  </tbody>\n",
       "</table>\n",
       "</div>"
      ],
      "text/plain": [
       "        date  addstocart  addstocart_diff  addstocart_absdiff  sessions  \\\n",
       "4 2013-05-01      136720              NaN                 NaN   1164639   \n",
       "5 2013-06-01      107970         -28750.0             28750.0   1388834   \n",
       "\n",
       "   sessions_diff  sessions_absdiff   ecr  ecr_diff  ecr_absdiff  transactions  \\\n",
       "4            NaN               NaN  2.44       NaN          NaN         28389   \n",
       "5       224195.0          224195.0  2.49      0.05         0.05         34538   \n",
       "\n",
       "   transactions_diff  transactions_absdiff  quantity  quantity_diff  \\\n",
       "4                NaN                   NaN     51629            NaN   \n",
       "5             6149.0                6149.0     61891        10262.0   \n",
       "\n",
       "   quantity_absdiff  \n",
       "4               NaN  \n",
       "5           10262.0  "
      ]
     },
     "execution_count": 42,
     "metadata": {},
     "output_type": "execute_result"
    }
   ],
   "source": [
    "#Reminder of report 2\n",
    "report_2"
   ]
  },
  {
   "cell_type": "markdown",
   "id": "interesting-provision",
   "metadata": {},
   "source": [
    "In the most recent month there were less adds to cart, by about 21% which is a significant drop. The other metrics increased by that margin; The number of sessions increased by about 20%, transactions by 22% and quantity by 20%. This tells us that something happened in from May to June that increased the time spent on the website, the number of purchases and the volume purchased during that time. Most likely, a sale occurred then since Memorial Day is the last day of May. Since it reduced the number of times that people had items sitting in their cart but did not check out, this looks like a successful sale in terms of the metrics given. If we were to add in revenue to the mix, we could really see if it was successful in terms of dollars earned in May vs. June. \n",
    "\n",
    "**Note: One small change that could be made to this report to give it more impact is to add the percent change along with the simple difference and absolute difference between the two months. The pandas library includes a pct_change function. As this doesn't change the report asked for, this would be easy to add in but due to time constraints, it wasn't possible.**"
   ]
  },
  {
   "cell_type": "markdown",
   "id": "wrapped-qualification",
   "metadata": {},
   "source": [
    "### Report 3"
   ]
  },
  {
   "cell_type": "code",
   "execution_count": 43,
   "id": "detailed-exclusive",
   "metadata": {
    "ExecuteTime": {
     "end_time": "2023-06-28T17:17:33.716731Z",
     "start_time": "2023-06-28T17:17:33.711312Z"
    }
   },
   "outputs": [
    {
     "data": {
      "text/html": [
       "<div>\n",
       "<style scoped>\n",
       "    .dataframe tbody tr th:only-of-type {\n",
       "        vertical-align: middle;\n",
       "    }\n",
       "\n",
       "    .dataframe tbody tr th {\n",
       "        vertical-align: top;\n",
       "    }\n",
       "\n",
       "    .dataframe thead th {\n",
       "        text-align: right;\n",
       "    }\n",
       "</style>\n",
       "<table border=\"1\" class=\"dataframe\">\n",
       "  <thead>\n",
       "    <tr style=\"text-align: right;\">\n",
       "      <th></th>\n",
       "      <th>date</th>\n",
       "      <th>addstocart</th>\n",
       "      <th>sessions</th>\n",
       "      <th>ecr</th>\n",
       "      <th>transactions</th>\n",
       "      <th>quantity</th>\n",
       "      <th>purchase_rate</th>\n",
       "      <th>volume_by_sessions</th>\n",
       "    </tr>\n",
       "  </thead>\n",
       "  <tbody>\n",
       "    <tr>\n",
       "      <th>6</th>\n",
       "      <td>2012-07-01</td>\n",
       "      <td>191504</td>\n",
       "      <td>768589</td>\n",
       "      <td>2.36</td>\n",
       "      <td>18161</td>\n",
       "      <td>31804</td>\n",
       "      <td>9.48</td>\n",
       "      <td>4.14</td>\n",
       "    </tr>\n",
       "    <tr>\n",
       "      <th>7</th>\n",
       "      <td>2012-08-01</td>\n",
       "      <td>217666</td>\n",
       "      <td>822493</td>\n",
       "      <td>2.34</td>\n",
       "      <td>19279</td>\n",
       "      <td>34648</td>\n",
       "      <td>8.86</td>\n",
       "      <td>4.21</td>\n",
       "    </tr>\n",
       "    <tr>\n",
       "      <th>8</th>\n",
       "      <td>2012-09-01</td>\n",
       "      <td>123726</td>\n",
       "      <td>662653</td>\n",
       "      <td>2.36</td>\n",
       "      <td>15658</td>\n",
       "      <td>28426</td>\n",
       "      <td>12.66</td>\n",
       "      <td>4.29</td>\n",
       "    </tr>\n",
       "    <tr>\n",
       "      <th>9</th>\n",
       "      <td>2012-10-01</td>\n",
       "      <td>139803</td>\n",
       "      <td>648639</td>\n",
       "      <td>2.20</td>\n",
       "      <td>14275</td>\n",
       "      <td>26626</td>\n",
       "      <td>10.21</td>\n",
       "      <td>4.10</td>\n",
       "    </tr>\n",
       "    <tr>\n",
       "      <th>10</th>\n",
       "      <td>2012-11-01</td>\n",
       "      <td>186572</td>\n",
       "      <td>637780</td>\n",
       "      <td>2.43</td>\n",
       "      <td>15527</td>\n",
       "      <td>28132</td>\n",
       "      <td>8.32</td>\n",
       "      <td>4.41</td>\n",
       "    </tr>\n",
       "    <tr>\n",
       "      <th>11</th>\n",
       "      <td>2012-12-01</td>\n",
       "      <td>168972</td>\n",
       "      <td>789634</td>\n",
       "      <td>2.52</td>\n",
       "      <td>19929</td>\n",
       "      <td>34752</td>\n",
       "      <td>11.79</td>\n",
       "      <td>4.40</td>\n",
       "    </tr>\n",
       "    <tr>\n",
       "      <th>0</th>\n",
       "      <td>2013-01-01</td>\n",
       "      <td>147619</td>\n",
       "      <td>899992</td>\n",
       "      <td>2.40</td>\n",
       "      <td>21560</td>\n",
       "      <td>38846</td>\n",
       "      <td>14.61</td>\n",
       "      <td>4.32</td>\n",
       "    </tr>\n",
       "    <tr>\n",
       "      <th>1</th>\n",
       "      <td>2013-02-01</td>\n",
       "      <td>135882</td>\n",
       "      <td>550227</td>\n",
       "      <td>2.57</td>\n",
       "      <td>14166</td>\n",
       "      <td>27048</td>\n",
       "      <td>10.43</td>\n",
       "      <td>4.92</td>\n",
       "    </tr>\n",
       "    <tr>\n",
       "      <th>2</th>\n",
       "      <td>2013-03-01</td>\n",
       "      <td>109797</td>\n",
       "      <td>788820</td>\n",
       "      <td>2.26</td>\n",
       "      <td>17804</td>\n",
       "      <td>32082</td>\n",
       "      <td>16.22</td>\n",
       "      <td>4.07</td>\n",
       "    </tr>\n",
       "    <tr>\n",
       "      <th>3</th>\n",
       "      <td>2013-04-01</td>\n",
       "      <td>183842</td>\n",
       "      <td>1296613</td>\n",
       "      <td>2.34</td>\n",
       "      <td>30369</td>\n",
       "      <td>54946</td>\n",
       "      <td>16.52</td>\n",
       "      <td>4.24</td>\n",
       "    </tr>\n",
       "    <tr>\n",
       "      <th>4</th>\n",
       "      <td>2013-05-01</td>\n",
       "      <td>136720</td>\n",
       "      <td>1164639</td>\n",
       "      <td>2.44</td>\n",
       "      <td>28389</td>\n",
       "      <td>51629</td>\n",
       "      <td>20.76</td>\n",
       "      <td>4.43</td>\n",
       "    </tr>\n",
       "    <tr>\n",
       "      <th>5</th>\n",
       "      <td>2013-06-01</td>\n",
       "      <td>107970</td>\n",
       "      <td>1388834</td>\n",
       "      <td>2.49</td>\n",
       "      <td>34538</td>\n",
       "      <td>61891</td>\n",
       "      <td>31.99</td>\n",
       "      <td>4.46</td>\n",
       "    </tr>\n",
       "  </tbody>\n",
       "</table>\n",
       "</div>"
      ],
      "text/plain": [
       "         date  addstocart  sessions   ecr  transactions  quantity  \\\n",
       "6  2012-07-01      191504    768589  2.36         18161     31804   \n",
       "7  2012-08-01      217666    822493  2.34         19279     34648   \n",
       "8  2012-09-01      123726    662653  2.36         15658     28426   \n",
       "9  2012-10-01      139803    648639  2.20         14275     26626   \n",
       "10 2012-11-01      186572    637780  2.43         15527     28132   \n",
       "11 2012-12-01      168972    789634  2.52         19929     34752   \n",
       "0  2013-01-01      147619    899992  2.40         21560     38846   \n",
       "1  2013-02-01      135882    550227  2.57         14166     27048   \n",
       "2  2013-03-01      109797    788820  2.26         17804     32082   \n",
       "3  2013-04-01      183842   1296613  2.34         30369     54946   \n",
       "4  2013-05-01      136720   1164639  2.44         28389     51629   \n",
       "5  2013-06-01      107970   1388834  2.49         34538     61891   \n",
       "\n",
       "    purchase_rate  volume_by_sessions  \n",
       "6            9.48                4.14  \n",
       "7            8.86                4.21  \n",
       "8           12.66                4.29  \n",
       "9           10.21                4.10  \n",
       "10           8.32                4.41  \n",
       "11          11.79                4.40  \n",
       "0           14.61                4.32  \n",
       "1           10.43                4.92  \n",
       "2           16.22                4.07  \n",
       "3           16.52                4.24  \n",
       "4           20.76                4.43  \n",
       "5           31.99                4.46  "
      ]
     },
     "execution_count": 43,
     "metadata": {},
     "output_type": "execute_result"
    }
   ],
   "source": [
    "#Reminder of report 3\n",
    "\n",
    "report_3"
   ]
  },
  {
   "cell_type": "markdown",
   "id": "independent-routine",
   "metadata": {},
   "source": [
    "From this report we wanted to see how purchase rate has changed over time and if the amount of items by the number of sessions is significant. \n",
    "\n",
    "From the table above, we can see that volume by sessions stays steady at around 4 so that value is not a significant finding. This happens! Not every metric created can be insightful. \n",
    "\n",
    "For purchase rate, we can see that the rate is increasing with every month. Let's quickly map that. "
   ]
  },
  {
   "cell_type": "code",
   "execution_count": 44,
   "id": "bacterial-magic",
   "metadata": {
    "ExecuteTime": {
     "end_time": "2023-06-28T17:17:33.769070Z",
     "start_time": "2023-06-28T17:17:33.717649Z"
    }
   },
   "outputs": [
    {
     "data": {
      "image/png": "[encoded data removed]",
      "text/plain": [
       "<Figure size 432x288 with 1 Axes>"
      ]
     },
     "metadata": {},
     "output_type": "display_data"
    }
   ],
   "source": [
    "#Creating a line graph\n",
    "\n",
    "plt.style.use('seaborn-whitegrid')\n",
    "\n",
    "plt.plot(report_3['date'],report_3['purchase_rate'], color='green', marker='o')\n",
    "plt.title('Purchase Rate by Month', fontsize=14)\n",
    "plt.xlabel('Month', fontsize=14)\n",
    "plt.ylabel('Rate', fontsize=14)\n",
    "plt.grid(True)\n",
    "plt.show()"
   ]
  },
  {
   "cell_type": "markdown",
   "id": "parliamentary-silence",
   "metadata": {},
   "source": [
    "We can see that purchase rate is following an almost exponential curve. This is significant because Fictional is increasing the number of purchases (transactions) and decreasing the amount of times items sit in cart without being purchased. As previously discussed, there likely was a successful sale in May/June due to Memorial Day. However this line graph shows this far better than the table did. Note that the purchase rate did not increase through the holiday season which is unusual. Did Fictional not run competitive sales during this time? This is something Fictional needs to work on for the next holiday season. Perhaps they could use the same strategy used in May/June. As mentioned before, revenue would really confirm whether May/June was successful. "
   ]
  },
  {
   "cell_type": "markdown",
   "id": "joint-november",
   "metadata": {},
   "source": [
    "### Summary of Findings\n",
    "\n",
    "1. Hire a UX designer to improve the mobile and tablet website experience. \n",
    "2. Add some more user friendly check out options such as Shop Pay or Paypal.\n",
    "3. Copy the sale strategy from Memorial Day for the next holidays, especially the Holiday season.\n",
    "4. Check on the method used for obtaining browser data-- 6% of data is not compiling correctly.\n",
    "5. Add in revenue and user data to gain more insight."
   ]
  },
  {
   "cell_type": "markdown",
   "id": "subsequent-pulse",
   "metadata": {},
   "source": [
    "## Further Steps\n",
    "\n",
    "As the data currently stands we can do some fairly useful analysis, but we cannot take it further without more data. The answer to doing anything further is always to get more data. More than a year's worth of data would be a good start.\n",
    "\n",
    "With the addition of a user id or some way of identifying individuals (customers), we could go into further analysis about what specific items people look at, their purchase rates, etc. You could even set up a running cohort analysis. With even more data about the individual (maybe with a voluntary survey of users), we could see which states, rough age range, etc that users belong in. We could also look at retention of customers. \n",
    "\n",
    "If we added in data about *what* items (products) people were buying or putting in their carts we could do even more analysis. Fictional would know which items sell the most and with which age groups. This is useful for planning new inventory. With this they can change their focus or narrow in on certain cohorts. \n",
    "\n",
    "Building off this, if we had dates from the company from when they ran specific sales we could compare transactions vs. adds to cart to see which sales performed best with which customers. "
   ]
  },
  {
   "cell_type": "code",
   "execution_count": null,
   "id": "coastal-cornwall",
   "metadata": {},
   "outputs": [],
   "source": []
  }
 ],
 "metadata": {
  "hide_input": false,
  "kernelspec": {
   "display_name": "Python 3",
   "language": "python",
   "name": "python3"
  },
  "language_info": {
   "codemirror_mode": {
    "name": "ipython",
    "version": 3
   },
   "file_extension": ".py",
   "mimetype": "text/x-python",
   "name": "python",
   "nbconvert_exporter": "python",
   "pygments_lexer": "ipython3",
   "version": "3.9.2"
  },
  "toc": {
   "base_numbering": 1,
   "nav_menu": {},
   "number_sections": false,
   "sideBar": true,
   "skip_h1_title": false,
   "title_cell": "Table of Contents",
   "title_sidebar": "Contents",
   "toc_cell": false,
   "toc_position": {
    "height": "calc(100% - 180px)",
    "left": "10px",
    "top": "150px",
    "width": "288px"
   },
   "toc_section_display": true,
   "toc_window_display": true
  }
 },
 "nbformat": 4,
 "nbformat_minor": 5
}
